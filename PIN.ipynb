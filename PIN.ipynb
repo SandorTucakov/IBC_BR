{
 "cells": [
  {
   "cell_type": "markdown",
   "metadata": {},
   "source": [
    "http://www.sidra.ibge.gov.br/bda/tabela/listabl.asp?z=t&o=22&i=P&c=3653"
   ]
  },
  {
   "cell_type": "markdown",
   "metadata": {},
   "source": [
    "https://dadosdadosdados.wordpress.com/2015/09/25/trabalhando-com-series-temporais-no-r-parte-i-2/"
   ]
  },
  {
   "cell_type": "code",
   "execution_count": 914,
   "metadata": {
    "collapsed": false
   },
   "outputs": [],
   "source": [
    "%matplotlib inline\n",
    "from unidecode import unidecode\n",
    "import numpy\n",
    "import matplotlib.pyplot as plt\n",
    "import pandas\n",
    "import math\n",
    "from keras.models import Sequential\n",
    "from keras.layers import Dense, Dropout, Flatten\n",
    "from keras.layers import LSTM\n",
    "from sklearn.preprocessing import MinMaxScaler\n",
    "from keras.regularizers import l2, activity_l2\n",
    "\n",
    "from sklearn.metrics import r2_score"
   ]
  },
  {
   "cell_type": "code",
   "execution_count": 915,
   "metadata": {
    "collapsed": false
   },
   "outputs": [],
   "source": [
    "dataset = pd.read_csv('PIN.csv', sep=';', skiprows=3,header=1,skipfooter=1, engine='python', encoding='ISO-8859-1')\n",
    "dataset.columns = [unidecode(x) for x in dataset.columns]"
   ]
  },
  {
   "cell_type": "code",
   "execution_count": 916,
   "metadata": {
    "collapsed": false
   },
   "outputs": [
    {
     "data": {
      "text/plain": [
       "Index([u'Unnamed: 0', u'Brasil', u'Amazonas', u'Para', u'Ceara', u'Pernambuco',\n",
       "       u'Bahia', u'Minas Gerais', u'Espirito Santo', u'Rio de Janeiro',\n",
       "       u'Sao Paulo', u'Parana', u'Santa Catarina', u'Rio Grande do Sul',\n",
       "       u'Mato Grosso', u'Goias'],\n",
       "      dtype='object')"
      ]
     },
     "execution_count": 916,
     "metadata": {},
     "output_type": "execute_result"
    }
   ],
   "source": [
    "dataset.columns"
   ]
  },
  {
   "cell_type": "code",
   "execution_count": 917,
   "metadata": {
    "collapsed": false
   },
   "outputs": [],
   "source": [
    "for c in dataset.columns[1:]:\n",
    "    dataset[c] = dataset[c].str.replace(',','.').replace('-',np.nan).astype(float)\n"
   ]
  },
  {
   "cell_type": "code",
   "execution_count": 918,
   "metadata": {
    "collapsed": false
   },
   "outputs": [
    {
     "data": {
      "text/html": [
       "<div>\n",
       "<table border=\"1\" class=\"dataframe\">\n",
       "  <thead>\n",
       "    <tr style=\"text-align: right;\">\n",
       "      <th></th>\n",
       "      <th>Unnamed: 0</th>\n",
       "      <th>Brasil</th>\n",
       "      <th>Amazonas</th>\n",
       "      <th>Para</th>\n",
       "      <th>Ceara</th>\n",
       "      <th>Pernambuco</th>\n",
       "      <th>Bahia</th>\n",
       "      <th>Minas Gerais</th>\n",
       "      <th>Espirito Santo</th>\n",
       "      <th>Rio de Janeiro</th>\n",
       "      <th>Sao Paulo</th>\n",
       "      <th>Parana</th>\n",
       "      <th>Santa Catarina</th>\n",
       "      <th>Rio Grande do Sul</th>\n",
       "      <th>Mato Grosso</th>\n",
       "      <th>Goias</th>\n",
       "    </tr>\n",
       "  </thead>\n",
       "  <tbody>\n",
       "    <tr>\n",
       "      <th>0</th>\n",
       "      <td>janeiro 2002</td>\n",
       "      <td>72.4</td>\n",
       "      <td>59.1</td>\n",
       "      <td>53.0</td>\n",
       "      <td>89.7</td>\n",
       "      <td>77.9</td>\n",
       "      <td>81.1</td>\n",
       "      <td>73.0</td>\n",
       "      <td>67.1</td>\n",
       "      <td>83.4</td>\n",
       "      <td>68.6</td>\n",
       "      <td>55.2</td>\n",
       "      <td>90.0</td>\n",
       "      <td>85.4</td>\n",
       "      <td>NaN</td>\n",
       "      <td>48.2</td>\n",
       "    </tr>\n",
       "    <tr>\n",
       "      <th>1</th>\n",
       "      <td>fevereiro 2002</td>\n",
       "      <td>69.7</td>\n",
       "      <td>57.9</td>\n",
       "      <td>55.1</td>\n",
       "      <td>80.2</td>\n",
       "      <td>66.3</td>\n",
       "      <td>72.4</td>\n",
       "      <td>66.8</td>\n",
       "      <td>61.5</td>\n",
       "      <td>77.3</td>\n",
       "      <td>68.0</td>\n",
       "      <td>56.2</td>\n",
       "      <td>89.4</td>\n",
       "      <td>84.3</td>\n",
       "      <td>NaN</td>\n",
       "      <td>55.8</td>\n",
       "    </tr>\n",
       "    <tr>\n",
       "      <th>2</th>\n",
       "      <td>março 2002</td>\n",
       "      <td>77.4</td>\n",
       "      <td>65.5</td>\n",
       "      <td>61.6</td>\n",
       "      <td>88.0</td>\n",
       "      <td>67.0</td>\n",
       "      <td>78.3</td>\n",
       "      <td>75.7</td>\n",
       "      <td>62.9</td>\n",
       "      <td>84.8</td>\n",
       "      <td>74.8</td>\n",
       "      <td>62.2</td>\n",
       "      <td>93.8</td>\n",
       "      <td>98.8</td>\n",
       "      <td>NaN</td>\n",
       "      <td>62.3</td>\n",
       "    </tr>\n",
       "    <tr>\n",
       "      <th>3</th>\n",
       "      <td>abril 2002</td>\n",
       "      <td>79.6</td>\n",
       "      <td>73.7</td>\n",
       "      <td>59.3</td>\n",
       "      <td>90.6</td>\n",
       "      <td>67.7</td>\n",
       "      <td>75.0</td>\n",
       "      <td>72.7</td>\n",
       "      <td>66.8</td>\n",
       "      <td>86.9</td>\n",
       "      <td>76.8</td>\n",
       "      <td>65.1</td>\n",
       "      <td>98.3</td>\n",
       "      <td>108.2</td>\n",
       "      <td>NaN</td>\n",
       "      <td>63.4</td>\n",
       "    </tr>\n",
       "    <tr>\n",
       "      <th>4</th>\n",
       "      <td>maio 2002</td>\n",
       "      <td>80.4</td>\n",
       "      <td>66.7</td>\n",
       "      <td>58.8</td>\n",
       "      <td>90.4</td>\n",
       "      <td>67.8</td>\n",
       "      <td>72.4</td>\n",
       "      <td>74.8</td>\n",
       "      <td>67.8</td>\n",
       "      <td>88.3</td>\n",
       "      <td>79.6</td>\n",
       "      <td>62.7</td>\n",
       "      <td>96.2</td>\n",
       "      <td>109.8</td>\n",
       "      <td>NaN</td>\n",
       "      <td>63.8</td>\n",
       "    </tr>\n",
       "  </tbody>\n",
       "</table>\n",
       "</div>"
      ],
      "text/plain": [
       "       Unnamed: 0  Brasil  Amazonas  Para  Ceara  Pernambuco  Bahia  \\\n",
       "0    janeiro 2002    72.4      59.1  53.0   89.7        77.9   81.1   \n",
       "1  fevereiro 2002    69.7      57.9  55.1   80.2        66.3   72.4   \n",
       "2      março 2002    77.4      65.5  61.6   88.0        67.0   78.3   \n",
       "3      abril 2002    79.6      73.7  59.3   90.6        67.7   75.0   \n",
       "4       maio 2002    80.4      66.7  58.8   90.4        67.8   72.4   \n",
       "\n",
       "   Minas Gerais  Espirito Santo  Rio de Janeiro  Sao Paulo  Parana  \\\n",
       "0          73.0            67.1            83.4       68.6    55.2   \n",
       "1          66.8            61.5            77.3       68.0    56.2   \n",
       "2          75.7            62.9            84.8       74.8    62.2   \n",
       "3          72.7            66.8            86.9       76.8    65.1   \n",
       "4          74.8            67.8            88.3       79.6    62.7   \n",
       "\n",
       "   Santa Catarina  Rio Grande do Sul  Mato Grosso  Goias  \n",
       "0            90.0               85.4          NaN   48.2  \n",
       "1            89.4               84.3          NaN   55.8  \n",
       "2            93.8               98.8          NaN   62.3  \n",
       "3            98.3              108.2          NaN   63.4  \n",
       "4            96.2              109.8          NaN   63.8  "
      ]
     },
     "execution_count": 918,
     "metadata": {},
     "output_type": "execute_result"
    }
   ],
   "source": [
    "dataset.head()"
   ]
  },
  {
   "cell_type": "code",
   "execution_count": 919,
   "metadata": {
    "collapsed": false
   },
   "outputs": [
    {
     "data": {
      "text/plain": [
       "[<matplotlib.lines.Line2D at 0x7f1c33ad0610>]"
      ]
     },
     "execution_count": 919,
     "metadata": {},
     "output_type": "execute_result"
    },
    {
     "data": {
      "image/png": "[encoded data removed]",
      "text/plain": [
       "<matplotlib.figure.Figure at 0x7f1c33ad0dd0>"
      ]
     },
     "metadata": {},
     "output_type": "display_data"
    }
   ],
   "source": [
    "plt.plot(dataset['Sao Paulo'])\n",
    "plt.plot(dataset['Rio de Janeiro'])\n",
    "#plt.plot(dataset['Rio Grande do Sul'])"
   ]
  },
  {
   "cell_type": "code",
   "execution_count": 920,
   "metadata": {
    "collapsed": true
   },
   "outputs": [],
   "source": [
    "# fix random seed for reproducibility\n",
    "numpy.random.seed(42)"
   ]
  },
  {
   "cell_type": "code",
   "execution_count": 921,
   "metadata": {
    "collapsed": true
   },
   "outputs": [],
   "source": [
    "# load the dataset\n",
    "# remove columns\n",
    "#del dataset['Unnamed: 0']\n",
    "del dataset['Brasil']"
   ]
  },
  {
   "cell_type": "markdown",
   "metadata": {},
   "source": [
    "### Clean data and convert dates"
   ]
  },
  {
   "cell_type": "code",
   "execution_count": 922,
   "metadata": {
    "collapsed": true
   },
   "outputs": [],
   "source": [
    "def date_convertator(series):\n",
    "    months = {'janeiro':'01',\n",
    "              'fevereiro':'02',\n",
    "              'marco':'03',\n",
    "              'abril':'04',\n",
    "              'maio':'05',\n",
    "              'junho':'06',\n",
    "              'julho':'07',\n",
    "              'agosto':'08',\n",
    "              'setembro':'09',\n",
    "              'outubro':'10',\n",
    "              'novembro':'11',\n",
    "              'dezembro':'12'}\n",
    "\n",
    "    dates = series.str.split(' ', expand=True)\n",
    "    dates[0] = dates[0].apply(lambda x: unidecode(x))\n",
    "    for key, value in months.iteritems():\n",
    "\n",
    "        dates[0] = dates[0].str.replace(key, value)\n",
    "\n",
    "    date_vec = pd.to_datetime(dates[1]+ '-' + dates[0])\n",
    "    return date_vec"
   ]
  },
  {
   "cell_type": "code",
   "execution_count": 923,
   "metadata": {
    "collapsed": false
   },
   "outputs": [],
   "source": [
    "dataset['Date'] = date_convertator(dataset['Unnamed: 0'])\n",
    "del dataset['Unnamed: 0']"
   ]
  },
  {
   "cell_type": "code",
   "execution_count": 924,
   "metadata": {
    "collapsed": false
   },
   "outputs": [
    {
     "data": {
      "text/html": [
       "<div>\n",
       "<table border=\"1\" class=\"dataframe\">\n",
       "  <thead>\n",
       "    <tr style=\"text-align: right;\">\n",
       "      <th></th>\n",
       "      <th>Amazonas</th>\n",
       "      <th>Para</th>\n",
       "      <th>Ceara</th>\n",
       "      <th>Pernambuco</th>\n",
       "      <th>Bahia</th>\n",
       "      <th>Minas Gerais</th>\n",
       "      <th>Espirito Santo</th>\n",
       "      <th>Rio de Janeiro</th>\n",
       "      <th>Sao Paulo</th>\n",
       "      <th>Parana</th>\n",
       "      <th>Santa Catarina</th>\n",
       "      <th>Rio Grande do Sul</th>\n",
       "      <th>Mato Grosso</th>\n",
       "      <th>Goias</th>\n",
       "      <th>Date</th>\n",
       "    </tr>\n",
       "  </thead>\n",
       "  <tbody>\n",
       "    <tr>\n",
       "      <th>0</th>\n",
       "      <td>59.1</td>\n",
       "      <td>53.0</td>\n",
       "      <td>89.7</td>\n",
       "      <td>77.9</td>\n",
       "      <td>81.1</td>\n",
       "      <td>73.0</td>\n",
       "      <td>67.1</td>\n",
       "      <td>83.4</td>\n",
       "      <td>68.6</td>\n",
       "      <td>55.2</td>\n",
       "      <td>90.0</td>\n",
       "      <td>85.4</td>\n",
       "      <td>NaN</td>\n",
       "      <td>48.2</td>\n",
       "      <td>2002-01-01</td>\n",
       "    </tr>\n",
       "    <tr>\n",
       "      <th>1</th>\n",
       "      <td>57.9</td>\n",
       "      <td>55.1</td>\n",
       "      <td>80.2</td>\n",
       "      <td>66.3</td>\n",
       "      <td>72.4</td>\n",
       "      <td>66.8</td>\n",
       "      <td>61.5</td>\n",
       "      <td>77.3</td>\n",
       "      <td>68.0</td>\n",
       "      <td>56.2</td>\n",
       "      <td>89.4</td>\n",
       "      <td>84.3</td>\n",
       "      <td>NaN</td>\n",
       "      <td>55.8</td>\n",
       "      <td>2002-02-01</td>\n",
       "    </tr>\n",
       "    <tr>\n",
       "      <th>2</th>\n",
       "      <td>65.5</td>\n",
       "      <td>61.6</td>\n",
       "      <td>88.0</td>\n",
       "      <td>67.0</td>\n",
       "      <td>78.3</td>\n",
       "      <td>75.7</td>\n",
       "      <td>62.9</td>\n",
       "      <td>84.8</td>\n",
       "      <td>74.8</td>\n",
       "      <td>62.2</td>\n",
       "      <td>93.8</td>\n",
       "      <td>98.8</td>\n",
       "      <td>NaN</td>\n",
       "      <td>62.3</td>\n",
       "      <td>2002-03-01</td>\n",
       "    </tr>\n",
       "    <tr>\n",
       "      <th>3</th>\n",
       "      <td>73.7</td>\n",
       "      <td>59.3</td>\n",
       "      <td>90.6</td>\n",
       "      <td>67.7</td>\n",
       "      <td>75.0</td>\n",
       "      <td>72.7</td>\n",
       "      <td>66.8</td>\n",
       "      <td>86.9</td>\n",
       "      <td>76.8</td>\n",
       "      <td>65.1</td>\n",
       "      <td>98.3</td>\n",
       "      <td>108.2</td>\n",
       "      <td>NaN</td>\n",
       "      <td>63.4</td>\n",
       "      <td>2002-04-01</td>\n",
       "    </tr>\n",
       "    <tr>\n",
       "      <th>4</th>\n",
       "      <td>66.7</td>\n",
       "      <td>58.8</td>\n",
       "      <td>90.4</td>\n",
       "      <td>67.8</td>\n",
       "      <td>72.4</td>\n",
       "      <td>74.8</td>\n",
       "      <td>67.8</td>\n",
       "      <td>88.3</td>\n",
       "      <td>79.6</td>\n",
       "      <td>62.7</td>\n",
       "      <td>96.2</td>\n",
       "      <td>109.8</td>\n",
       "      <td>NaN</td>\n",
       "      <td>63.8</td>\n",
       "      <td>2002-05-01</td>\n",
       "    </tr>\n",
       "  </tbody>\n",
       "</table>\n",
       "</div>"
      ],
      "text/plain": [
       "   Amazonas  Para  Ceara  Pernambuco  Bahia  Minas Gerais  Espirito Santo  \\\n",
       "0      59.1  53.0   89.7        77.9   81.1          73.0            67.1   \n",
       "1      57.9  55.1   80.2        66.3   72.4          66.8            61.5   \n",
       "2      65.5  61.6   88.0        67.0   78.3          75.7            62.9   \n",
       "3      73.7  59.3   90.6        67.7   75.0          72.7            66.8   \n",
       "4      66.7  58.8   90.4        67.8   72.4          74.8            67.8   \n",
       "\n",
       "   Rio de Janeiro  Sao Paulo  Parana  Santa Catarina  Rio Grande do Sul  \\\n",
       "0            83.4       68.6    55.2            90.0               85.4   \n",
       "1            77.3       68.0    56.2            89.4               84.3   \n",
       "2            84.8       74.8    62.2            93.8               98.8   \n",
       "3            86.9       76.8    65.1            98.3              108.2   \n",
       "4            88.3       79.6    62.7            96.2              109.8   \n",
       "\n",
       "   Mato Grosso  Goias       Date  \n",
       "0          NaN   48.2 2002-01-01  \n",
       "1          NaN   55.8 2002-02-01  \n",
       "2          NaN   62.3 2002-03-01  \n",
       "3          NaN   63.4 2002-04-01  \n",
       "4          NaN   63.8 2002-05-01  "
      ]
     },
     "execution_count": 924,
     "metadata": {},
     "output_type": "execute_result"
    }
   ],
   "source": [
    "dataset.head()"
   ]
  },
  {
   "cell_type": "code",
   "execution_count": 925,
   "metadata": {
    "collapsed": false
   },
   "outputs": [],
   "source": [
    "dataset = pd.melt(dataset.groupby('Date').sum().reset_index(),id_vars='Date')\n"
   ]
  },
  {
   "cell_type": "markdown",
   "metadata": {},
   "source": [
    "### Add Seasonal factor"
   ]
  },
  {
   "cell_type": "code",
   "execution_count": 926,
   "metadata": {
    "collapsed": false
   },
   "outputs": [],
   "source": [
    "dataset['month'] = pd.DatetimeIndex(dataset['Date']).month"
   ]
  },
  {
   "cell_type": "code",
   "execution_count": 927,
   "metadata": {
    "collapsed": false
   },
   "outputs": [
    {
     "data": {
      "text/html": [
       "<div>\n",
       "<table border=\"1\" class=\"dataframe\">\n",
       "  <thead>\n",
       "    <tr style=\"text-align: right;\">\n",
       "      <th></th>\n",
       "      <th>Date</th>\n",
       "      <th>variable</th>\n",
       "      <th>value</th>\n",
       "      <th>month</th>\n",
       "    </tr>\n",
       "  </thead>\n",
       "  <tbody>\n",
       "    <tr>\n",
       "      <th>1408</th>\n",
       "      <td>2002-01-01</td>\n",
       "      <td>Sao Paulo</td>\n",
       "      <td>68.6</td>\n",
       "      <td>1</td>\n",
       "    </tr>\n",
       "    <tr>\n",
       "      <th>1409</th>\n",
       "      <td>2002-02-01</td>\n",
       "      <td>Sao Paulo</td>\n",
       "      <td>68.0</td>\n",
       "      <td>2</td>\n",
       "    </tr>\n",
       "    <tr>\n",
       "      <th>1410</th>\n",
       "      <td>2002-03-01</td>\n",
       "      <td>Sao Paulo</td>\n",
       "      <td>74.8</td>\n",
       "      <td>3</td>\n",
       "    </tr>\n",
       "    <tr>\n",
       "      <th>1411</th>\n",
       "      <td>2002-04-01</td>\n",
       "      <td>Sao Paulo</td>\n",
       "      <td>76.8</td>\n",
       "      <td>4</td>\n",
       "    </tr>\n",
       "    <tr>\n",
       "      <th>1412</th>\n",
       "      <td>2002-05-01</td>\n",
       "      <td>Sao Paulo</td>\n",
       "      <td>79.6</td>\n",
       "      <td>5</td>\n",
       "    </tr>\n",
       "  </tbody>\n",
       "</table>\n",
       "</div>"
      ],
      "text/plain": [
       "           Date   variable  value  month\n",
       "1408 2002-01-01  Sao Paulo   68.6      1\n",
       "1409 2002-02-01  Sao Paulo   68.0      2\n",
       "1410 2002-03-01  Sao Paulo   74.8      3\n",
       "1411 2002-04-01  Sao Paulo   76.8      4\n",
       "1412 2002-05-01  Sao Paulo   79.6      5"
      ]
     },
     "execution_count": 927,
     "metadata": {},
     "output_type": "execute_result"
    }
   ],
   "source": [
    "dataset[dataset['variable']=='Sao Paulo'].head()"
   ]
  },
  {
   "cell_type": "code",
   "execution_count": 929,
   "metadata": {
    "collapsed": true
   },
   "outputs": [],
   "source": [
    "def laggator(df, feature='value', index='Date', columns='variable', prefix='L', lags=12):\n",
    "    df = df.ix[:,[index, columns, feature]]\n",
    "    data = np.zeros((df.shape[0],lags))\n",
    "    for l in range(1,lags+1):\n",
    "        data[:,l-1] = pd.melt(df.pivot(index=index,columns=columns,values=feature).shift(l).reset_index(), id_vars=index)['value']\n",
    "    \n",
    "    datadf = pd.DataFrame(data)\n",
    "    colnames = [feature + str(x+1) for x in range(lags)]\n",
    "    datadf.columns = colnames\n",
    "    \n",
    "    return datadf, colnames"
   ]
  },
  {
   "cell_type": "code",
   "execution_count": 933,
   "metadata": {
    "collapsed": true
   },
   "outputs": [],
   "source": [
    "LAGS = 12\n",
    "FEATURE = ['value', 'month']\n",
    "INDEX = 'Date'\n",
    "COLUMNS = 'variable'\n",
    "feat_names = []\n",
    "data = []\n",
    "\n",
    "for f in FEATURE:\n",
    "    dt, colnames = laggator(dataset, feature=f, index=INDEX, columns=COLUMNS, lags=LAGS)\n",
    "    feat_names.append(colnames)\n",
    "    data.append(dt)\n",
    "#data = data.fillna(0)\n",
    "#pd.concat([dataset, data])\n",
    "#true_val = data['value']\n",
    "#del data['value']"
   ]
  },
  {
   "cell_type": "code",
   "execution_count": 949,
   "metadata": {
    "collapsed": false
   },
   "outputs": [],
   "source": [
    "new_data = pd.concat([dataset,pd.concat(data,axis=1)],axis=1)"
   ]
  },
  {
   "cell_type": "code",
   "execution_count": 950,
   "metadata": {
    "collapsed": false
   },
   "outputs": [
    {
     "data": {
      "text/html": [
       "<div>\n",
       "<table border=\"1\" class=\"dataframe\">\n",
       "  <thead>\n",
       "    <tr style=\"text-align: right;\">\n",
       "      <th></th>\n",
       "      <th>Date</th>\n",
       "      <th>variable</th>\n",
       "      <th>value</th>\n",
       "      <th>month</th>\n",
       "      <th>value1</th>\n",
       "      <th>value2</th>\n",
       "      <th>value3</th>\n",
       "      <th>value4</th>\n",
       "      <th>value5</th>\n",
       "      <th>value6</th>\n",
       "      <th>...</th>\n",
       "      <th>month3</th>\n",
       "      <th>month4</th>\n",
       "      <th>month5</th>\n",
       "      <th>month6</th>\n",
       "      <th>month7</th>\n",
       "      <th>month8</th>\n",
       "      <th>month9</th>\n",
       "      <th>month10</th>\n",
       "      <th>month11</th>\n",
       "      <th>month12</th>\n",
       "    </tr>\n",
       "  </thead>\n",
       "  <tbody>\n",
       "    <tr>\n",
       "      <th>1408</th>\n",
       "      <td>2002-01-01</td>\n",
       "      <td>Sao Paulo</td>\n",
       "      <td>68.6</td>\n",
       "      <td>1</td>\n",
       "      <td>NaN</td>\n",
       "      <td>NaN</td>\n",
       "      <td>NaN</td>\n",
       "      <td>NaN</td>\n",
       "      <td>NaN</td>\n",
       "      <td>NaN</td>\n",
       "      <td>...</td>\n",
       "      <td>NaN</td>\n",
       "      <td>NaN</td>\n",
       "      <td>NaN</td>\n",
       "      <td>NaN</td>\n",
       "      <td>NaN</td>\n",
       "      <td>NaN</td>\n",
       "      <td>NaN</td>\n",
       "      <td>NaN</td>\n",
       "      <td>NaN</td>\n",
       "      <td>NaN</td>\n",
       "    </tr>\n",
       "    <tr>\n",
       "      <th>1409</th>\n",
       "      <td>2002-02-01</td>\n",
       "      <td>Sao Paulo</td>\n",
       "      <td>68.0</td>\n",
       "      <td>2</td>\n",
       "      <td>55.2</td>\n",
       "      <td>NaN</td>\n",
       "      <td>NaN</td>\n",
       "      <td>NaN</td>\n",
       "      <td>NaN</td>\n",
       "      <td>NaN</td>\n",
       "      <td>...</td>\n",
       "      <td>NaN</td>\n",
       "      <td>NaN</td>\n",
       "      <td>NaN</td>\n",
       "      <td>NaN</td>\n",
       "      <td>NaN</td>\n",
       "      <td>NaN</td>\n",
       "      <td>NaN</td>\n",
       "      <td>NaN</td>\n",
       "      <td>NaN</td>\n",
       "      <td>NaN</td>\n",
       "    </tr>\n",
       "    <tr>\n",
       "      <th>1410</th>\n",
       "      <td>2002-03-01</td>\n",
       "      <td>Sao Paulo</td>\n",
       "      <td>74.8</td>\n",
       "      <td>3</td>\n",
       "      <td>56.2</td>\n",
       "      <td>55.2</td>\n",
       "      <td>NaN</td>\n",
       "      <td>NaN</td>\n",
       "      <td>NaN</td>\n",
       "      <td>NaN</td>\n",
       "      <td>...</td>\n",
       "      <td>NaN</td>\n",
       "      <td>NaN</td>\n",
       "      <td>NaN</td>\n",
       "      <td>NaN</td>\n",
       "      <td>NaN</td>\n",
       "      <td>NaN</td>\n",
       "      <td>NaN</td>\n",
       "      <td>NaN</td>\n",
       "      <td>NaN</td>\n",
       "      <td>NaN</td>\n",
       "    </tr>\n",
       "    <tr>\n",
       "      <th>1411</th>\n",
       "      <td>2002-04-01</td>\n",
       "      <td>Sao Paulo</td>\n",
       "      <td>76.8</td>\n",
       "      <td>4</td>\n",
       "      <td>62.2</td>\n",
       "      <td>56.2</td>\n",
       "      <td>55.2</td>\n",
       "      <td>NaN</td>\n",
       "      <td>NaN</td>\n",
       "      <td>NaN</td>\n",
       "      <td>...</td>\n",
       "      <td>1.0</td>\n",
       "      <td>NaN</td>\n",
       "      <td>NaN</td>\n",
       "      <td>NaN</td>\n",
       "      <td>NaN</td>\n",
       "      <td>NaN</td>\n",
       "      <td>NaN</td>\n",
       "      <td>NaN</td>\n",
       "      <td>NaN</td>\n",
       "      <td>NaN</td>\n",
       "    </tr>\n",
       "    <tr>\n",
       "      <th>1412</th>\n",
       "      <td>2002-05-01</td>\n",
       "      <td>Sao Paulo</td>\n",
       "      <td>79.6</td>\n",
       "      <td>5</td>\n",
       "      <td>65.1</td>\n",
       "      <td>62.2</td>\n",
       "      <td>56.2</td>\n",
       "      <td>55.2</td>\n",
       "      <td>NaN</td>\n",
       "      <td>NaN</td>\n",
       "      <td>...</td>\n",
       "      <td>2.0</td>\n",
       "      <td>1.0</td>\n",
       "      <td>NaN</td>\n",
       "      <td>NaN</td>\n",
       "      <td>NaN</td>\n",
       "      <td>NaN</td>\n",
       "      <td>NaN</td>\n",
       "      <td>NaN</td>\n",
       "      <td>NaN</td>\n",
       "      <td>NaN</td>\n",
       "    </tr>\n",
       "  </tbody>\n",
       "</table>\n",
       "<p>5 rows × 28 columns</p>\n",
       "</div>"
      ],
      "text/plain": [
       "           Date   variable  value  month  value1  value2  value3  value4  \\\n",
       "1408 2002-01-01  Sao Paulo   68.6      1     NaN     NaN     NaN     NaN   \n",
       "1409 2002-02-01  Sao Paulo   68.0      2    55.2     NaN     NaN     NaN   \n",
       "1410 2002-03-01  Sao Paulo   74.8      3    56.2    55.2     NaN     NaN   \n",
       "1411 2002-04-01  Sao Paulo   76.8      4    62.2    56.2    55.2     NaN   \n",
       "1412 2002-05-01  Sao Paulo   79.6      5    65.1    62.2    56.2    55.2   \n",
       "\n",
       "      value5  value6   ...     month3  month4  month5  month6  month7  month8  \\\n",
       "1408     NaN     NaN   ...        NaN     NaN     NaN     NaN     NaN     NaN   \n",
       "1409     NaN     NaN   ...        NaN     NaN     NaN     NaN     NaN     NaN   \n",
       "1410     NaN     NaN   ...        NaN     NaN     NaN     NaN     NaN     NaN   \n",
       "1411     NaN     NaN   ...        1.0     NaN     NaN     NaN     NaN     NaN   \n",
       "1412     NaN     NaN   ...        2.0     1.0     NaN     NaN     NaN     NaN   \n",
       "\n",
       "      month9  month10  month11  month12  \n",
       "1408     NaN      NaN      NaN      NaN  \n",
       "1409     NaN      NaN      NaN      NaN  \n",
       "1410     NaN      NaN      NaN      NaN  \n",
       "1411     NaN      NaN      NaN      NaN  \n",
       "1412     NaN      NaN      NaN      NaN  \n",
       "\n",
       "[5 rows x 28 columns]"
      ]
     },
     "execution_count": 950,
     "metadata": {},
     "output_type": "execute_result"
    }
   ],
   "source": [
    "new_data.ix[new_data.variable=='Sao Paulo',:].head()"
   ]
  },
  {
   "cell_type": "code",
   "execution_count": 951,
   "metadata": {
    "collapsed": true
   },
   "outputs": [],
   "source": [
    "CUTOFF = '2015-01-01'"
   ]
  },
  {
   "cell_type": "code",
   "execution_count": 958,
   "metadata": {
    "collapsed": false
   },
   "outputs": [],
   "source": [
    "train = new_data.ix[new_data['Date']<CUTOFF,:].fillna(0)\n",
    "test = new_data.ix[new_data['Date']>=CUTOFF,:].fillna(0)"
   ]
  },
  {
   "cell_type": "code",
   "execution_count": 959,
   "metadata": {
    "collapsed": false
   },
   "outputs": [
    {
     "data": {
      "text/html": [
       "<div>\n",
       "<table border=\"1\" class=\"dataframe\">\n",
       "  <thead>\n",
       "    <tr style=\"text-align: right;\">\n",
       "      <th></th>\n",
       "      <th>Date</th>\n",
       "      <th>variable</th>\n",
       "      <th>value</th>\n",
       "      <th>month</th>\n",
       "      <th>value1</th>\n",
       "      <th>value2</th>\n",
       "      <th>value3</th>\n",
       "      <th>value4</th>\n",
       "      <th>value5</th>\n",
       "      <th>value6</th>\n",
       "      <th>...</th>\n",
       "      <th>month3</th>\n",
       "      <th>month4</th>\n",
       "      <th>month5</th>\n",
       "      <th>month6</th>\n",
       "      <th>month7</th>\n",
       "      <th>month8</th>\n",
       "      <th>month9</th>\n",
       "      <th>month10</th>\n",
       "      <th>month11</th>\n",
       "      <th>month12</th>\n",
       "    </tr>\n",
       "  </thead>\n",
       "  <tbody>\n",
       "    <tr>\n",
       "      <th>0</th>\n",
       "      <td>2002-01-01</td>\n",
       "      <td>Amazonas</td>\n",
       "      <td>59.1</td>\n",
       "      <td>1</td>\n",
       "      <td>0.0</td>\n",
       "      <td>0.0</td>\n",
       "      <td>0.0</td>\n",
       "      <td>0.0</td>\n",
       "      <td>0.0</td>\n",
       "      <td>0.0</td>\n",
       "      <td>...</td>\n",
       "      <td>0.0</td>\n",
       "      <td>0.0</td>\n",
       "      <td>0.0</td>\n",
       "      <td>0.0</td>\n",
       "      <td>0.0</td>\n",
       "      <td>0.0</td>\n",
       "      <td>0.0</td>\n",
       "      <td>0.0</td>\n",
       "      <td>0.0</td>\n",
       "      <td>0.0</td>\n",
       "    </tr>\n",
       "    <tr>\n",
       "      <th>1</th>\n",
       "      <td>2002-02-01</td>\n",
       "      <td>Amazonas</td>\n",
       "      <td>57.9</td>\n",
       "      <td>2</td>\n",
       "      <td>59.1</td>\n",
       "      <td>0.0</td>\n",
       "      <td>0.0</td>\n",
       "      <td>0.0</td>\n",
       "      <td>0.0</td>\n",
       "      <td>0.0</td>\n",
       "      <td>...</td>\n",
       "      <td>0.0</td>\n",
       "      <td>0.0</td>\n",
       "      <td>0.0</td>\n",
       "      <td>0.0</td>\n",
       "      <td>0.0</td>\n",
       "      <td>0.0</td>\n",
       "      <td>0.0</td>\n",
       "      <td>0.0</td>\n",
       "      <td>0.0</td>\n",
       "      <td>0.0</td>\n",
       "    </tr>\n",
       "    <tr>\n",
       "      <th>2</th>\n",
       "      <td>2002-03-01</td>\n",
       "      <td>Amazonas</td>\n",
       "      <td>65.5</td>\n",
       "      <td>3</td>\n",
       "      <td>57.9</td>\n",
       "      <td>59.1</td>\n",
       "      <td>0.0</td>\n",
       "      <td>0.0</td>\n",
       "      <td>0.0</td>\n",
       "      <td>0.0</td>\n",
       "      <td>...</td>\n",
       "      <td>0.0</td>\n",
       "      <td>0.0</td>\n",
       "      <td>0.0</td>\n",
       "      <td>0.0</td>\n",
       "      <td>0.0</td>\n",
       "      <td>0.0</td>\n",
       "      <td>0.0</td>\n",
       "      <td>0.0</td>\n",
       "      <td>0.0</td>\n",
       "      <td>0.0</td>\n",
       "    </tr>\n",
       "    <tr>\n",
       "      <th>3</th>\n",
       "      <td>2002-04-01</td>\n",
       "      <td>Amazonas</td>\n",
       "      <td>73.7</td>\n",
       "      <td>4</td>\n",
       "      <td>65.5</td>\n",
       "      <td>57.9</td>\n",
       "      <td>59.1</td>\n",
       "      <td>0.0</td>\n",
       "      <td>0.0</td>\n",
       "      <td>0.0</td>\n",
       "      <td>...</td>\n",
       "      <td>1.0</td>\n",
       "      <td>0.0</td>\n",
       "      <td>0.0</td>\n",
       "      <td>0.0</td>\n",
       "      <td>0.0</td>\n",
       "      <td>0.0</td>\n",
       "      <td>0.0</td>\n",
       "      <td>0.0</td>\n",
       "      <td>0.0</td>\n",
       "      <td>0.0</td>\n",
       "    </tr>\n",
       "    <tr>\n",
       "      <th>4</th>\n",
       "      <td>2002-05-01</td>\n",
       "      <td>Amazonas</td>\n",
       "      <td>66.7</td>\n",
       "      <td>5</td>\n",
       "      <td>73.7</td>\n",
       "      <td>65.5</td>\n",
       "      <td>57.9</td>\n",
       "      <td>59.1</td>\n",
       "      <td>0.0</td>\n",
       "      <td>0.0</td>\n",
       "      <td>...</td>\n",
       "      <td>2.0</td>\n",
       "      <td>1.0</td>\n",
       "      <td>0.0</td>\n",
       "      <td>0.0</td>\n",
       "      <td>0.0</td>\n",
       "      <td>0.0</td>\n",
       "      <td>0.0</td>\n",
       "      <td>0.0</td>\n",
       "      <td>0.0</td>\n",
       "      <td>0.0</td>\n",
       "    </tr>\n",
       "  </tbody>\n",
       "</table>\n",
       "<p>5 rows × 28 columns</p>\n",
       "</div>"
      ],
      "text/plain": [
       "        Date  variable  value  month  value1  value2  value3  value4  value5  \\\n",
       "0 2002-01-01  Amazonas   59.1      1     0.0     0.0     0.0     0.0     0.0   \n",
       "1 2002-02-01  Amazonas   57.9      2    59.1     0.0     0.0     0.0     0.0   \n",
       "2 2002-03-01  Amazonas   65.5      3    57.9    59.1     0.0     0.0     0.0   \n",
       "3 2002-04-01  Amazonas   73.7      4    65.5    57.9    59.1     0.0     0.0   \n",
       "4 2002-05-01  Amazonas   66.7      5    73.7    65.5    57.9    59.1     0.0   \n",
       "\n",
       "   value6   ...     month3  month4  month5  month6  month7  month8  month9  \\\n",
       "0     0.0   ...        0.0     0.0     0.0     0.0     0.0     0.0     0.0   \n",
       "1     0.0   ...        0.0     0.0     0.0     0.0     0.0     0.0     0.0   \n",
       "2     0.0   ...        0.0     0.0     0.0     0.0     0.0     0.0     0.0   \n",
       "3     0.0   ...        1.0     0.0     0.0     0.0     0.0     0.0     0.0   \n",
       "4     0.0   ...        2.0     1.0     0.0     0.0     0.0     0.0     0.0   \n",
       "\n",
       "   month10  month11  month12  \n",
       "0      0.0      0.0      0.0  \n",
       "1      0.0      0.0      0.0  \n",
       "2      0.0      0.0      0.0  \n",
       "3      0.0      0.0      0.0  \n",
       "4      0.0      0.0      0.0  \n",
       "\n",
       "[5 rows x 28 columns]"
      ]
     },
     "execution_count": 959,
     "metadata": {},
     "output_type": "execute_result"
    }
   ],
   "source": [
    "train.head()"
   ]
  },
  {
   "cell_type": "markdown",
   "metadata": {},
   "source": [
    "### Shape data for Keras"
   ]
  },
  {
   "cell_type": "code",
   "execution_count": 960,
   "metadata": {
    "collapsed": false
   },
   "outputs": [],
   "source": [
    "FEAT = len(FEATURE)\n",
    "traX = np.zeros((train.shape[0], LAGS, FEAT))\n",
    "tesX = np.zeros((test.shape[0], LAGS, FEAT))\n",
    "traY = np.zeros((train.shape[0]))\n",
    "tesY = np.zeros((test.shape[0]))\n",
    "\n",
    "for f in range(features):\n",
    "    traX[:,:,f] = train.ix[:, feat_names[f]]\n",
    "    tesX[:,:,f] = test.ix[:, feat_names[f]]\n",
    "\n",
    "traY = train['value']\n",
    "tesY = test['value']"
   ]
  },
  {
   "cell_type": "code",
   "execution_count": 961,
   "metadata": {
    "collapsed": false
   },
   "outputs": [
    {
     "data": {
      "text/plain": [
       "((2184, 12, 2), (2184,))"
      ]
     },
     "execution_count": 961,
     "metadata": {},
     "output_type": "execute_result"
    }
   ],
   "source": [
    "traX.shape, traY.shape"
   ]
  },
  {
   "cell_type": "code",
   "execution_count": null,
   "metadata": {
    "collapsed": true
   },
   "outputs": [],
   "source": []
  },
  {
   "cell_type": "code",
   "execution_count": 962,
   "metadata": {
    "collapsed": false,
    "scrolled": true
   },
   "outputs": [
    {
     "name": "stdout",
     "output_type": "stream",
     "text": [
      "Train on 1528 samples, validate on 656 samples\n",
      "Epoch 1/60\n",
      "14s - loss: 6284.6009 - val_loss: 4599.6438\n",
      "Epoch 2/60\n"
     ]
    },
    {
     "ename": "KeyboardInterrupt",
     "evalue": "",
     "output_type": "error",
     "traceback": [
      "\u001b[1;31m---------------------------------------------------------------------------\u001b[0m",
      "\u001b[1;31mKeyboardInterrupt\u001b[0m                         Traceback (most recent call last)",
      "\u001b[1;32m<ipython-input-962-dae903dbb1f5>\u001b[0m in \u001b[0;36m<module>\u001b[1;34m()\u001b[0m\n\u001b[0;32m     12\u001b[0m \u001b[0mmodel\u001b[0m\u001b[1;33m.\u001b[0m\u001b[0mcompile\u001b[0m\u001b[1;33m(\u001b[0m\u001b[0mloss\u001b[0m\u001b[1;33m=\u001b[0m\u001b[1;34m'mean_squared_error'\u001b[0m\u001b[1;33m,\u001b[0m \u001b[0moptimizer\u001b[0m\u001b[1;33m=\u001b[0m\u001b[1;34m'rmsprop'\u001b[0m\u001b[1;33m)\u001b[0m\u001b[1;33m\u001b[0m\u001b[0m\n\u001b[0;32m     13\u001b[0m \u001b[1;33m\u001b[0m\u001b[0m\n\u001b[1;32m---> 14\u001b[1;33m \u001b[0mhist\u001b[0m \u001b[1;33m=\u001b[0m \u001b[0mmodel\u001b[0m\u001b[1;33m.\u001b[0m\u001b[0mfit\u001b[0m\u001b[1;33m(\u001b[0m\u001b[0mtraX\u001b[0m\u001b[1;33m,\u001b[0m \u001b[0mtraY\u001b[0m\u001b[1;33m,\u001b[0m \u001b[0mnb_epoch\u001b[0m\u001b[1;33m=\u001b[0m\u001b[1;36m60\u001b[0m\u001b[1;33m,\u001b[0m \u001b[0mbatch_size\u001b[0m\u001b[1;33m=\u001b[0m\u001b[1;36m1\u001b[0m\u001b[1;33m,\u001b[0m \u001b[0mverbose\u001b[0m\u001b[1;33m=\u001b[0m\u001b[1;36m2\u001b[0m\u001b[1;33m,\u001b[0m \u001b[0mvalidation_split\u001b[0m\u001b[1;33m=\u001b[0m\u001b[1;36m0.3\u001b[0m\u001b[1;33m)\u001b[0m\u001b[1;33m\u001b[0m\u001b[0m\n\u001b[0m",
      "\u001b[1;32m/home/sandor/anaconda2/lib/python2.7/site-packages/keras/models.pyc\u001b[0m in \u001b[0;36mfit\u001b[1;34m(self, x, y, batch_size, nb_epoch, verbose, callbacks, validation_split, validation_data, shuffle, class_weight, sample_weight, **kwargs)\u001b[0m\n\u001b[0;32m    618\u001b[0m                               \u001b[0mshuffle\u001b[0m\u001b[1;33m=\u001b[0m\u001b[0mshuffle\u001b[0m\u001b[1;33m,\u001b[0m\u001b[1;33m\u001b[0m\u001b[0m\n\u001b[0;32m    619\u001b[0m                               \u001b[0mclass_weight\u001b[0m\u001b[1;33m=\u001b[0m\u001b[0mclass_weight\u001b[0m\u001b[1;33m,\u001b[0m\u001b[1;33m\u001b[0m\u001b[0m\n\u001b[1;32m--> 620\u001b[1;33m                               sample_weight=sample_weight)\n\u001b[0m\u001b[0;32m    621\u001b[0m \u001b[1;33m\u001b[0m\u001b[0m\n\u001b[0;32m    622\u001b[0m     def evaluate(self, x, y, batch_size=32, verbose=1,\n",
      "\u001b[1;32m/home/sandor/anaconda2/lib/python2.7/site-packages/keras/engine/training.pyc\u001b[0m in \u001b[0;36mfit\u001b[1;34m(self, x, y, batch_size, nb_epoch, verbose, callbacks, validation_split, validation_data, shuffle, class_weight, sample_weight)\u001b[0m\n\u001b[0;32m   1102\u001b[0m                               \u001b[0mverbose\u001b[0m\u001b[1;33m=\u001b[0m\u001b[0mverbose\u001b[0m\u001b[1;33m,\u001b[0m \u001b[0mcallbacks\u001b[0m\u001b[1;33m=\u001b[0m\u001b[0mcallbacks\u001b[0m\u001b[1;33m,\u001b[0m\u001b[1;33m\u001b[0m\u001b[0m\n\u001b[0;32m   1103\u001b[0m                               \u001b[0mval_f\u001b[0m\u001b[1;33m=\u001b[0m\u001b[0mval_f\u001b[0m\u001b[1;33m,\u001b[0m \u001b[0mval_ins\u001b[0m\u001b[1;33m=\u001b[0m\u001b[0mval_ins\u001b[0m\u001b[1;33m,\u001b[0m \u001b[0mshuffle\u001b[0m\u001b[1;33m=\u001b[0m\u001b[0mshuffle\u001b[0m\u001b[1;33m,\u001b[0m\u001b[1;33m\u001b[0m\u001b[0m\n\u001b[1;32m-> 1104\u001b[1;33m                               callback_metrics=callback_metrics)\n\u001b[0m\u001b[0;32m   1105\u001b[0m \u001b[1;33m\u001b[0m\u001b[0m\n\u001b[0;32m   1106\u001b[0m     \u001b[1;32mdef\u001b[0m \u001b[0mevaluate\u001b[0m\u001b[1;33m(\u001b[0m\u001b[0mself\u001b[0m\u001b[1;33m,\u001b[0m \u001b[0mx\u001b[0m\u001b[1;33m,\u001b[0m \u001b[0my\u001b[0m\u001b[1;33m,\u001b[0m \u001b[0mbatch_size\u001b[0m\u001b[1;33m=\u001b[0m\u001b[1;36m32\u001b[0m\u001b[1;33m,\u001b[0m \u001b[0mverbose\u001b[0m\u001b[1;33m=\u001b[0m\u001b[1;36m1\u001b[0m\u001b[1;33m,\u001b[0m \u001b[0msample_weight\u001b[0m\u001b[1;33m=\u001b[0m\u001b[0mNone\u001b[0m\u001b[1;33m)\u001b[0m\u001b[1;33m:\u001b[0m\u001b[1;33m\u001b[0m\u001b[0m\n",
      "\u001b[1;32m/home/sandor/anaconda2/lib/python2.7/site-packages/keras/engine/training.pyc\u001b[0m in \u001b[0;36m_fit_loop\u001b[1;34m(self, f, ins, out_labels, batch_size, nb_epoch, verbose, callbacks, val_f, val_ins, shuffle, callback_metrics)\u001b[0m\n\u001b[0;32m    820\u001b[0m                 \u001b[0mbatch_logs\u001b[0m\u001b[1;33m[\u001b[0m\u001b[1;34m'size'\u001b[0m\u001b[1;33m]\u001b[0m \u001b[1;33m=\u001b[0m \u001b[0mlen\u001b[0m\u001b[1;33m(\u001b[0m\u001b[0mbatch_ids\u001b[0m\u001b[1;33m)\u001b[0m\u001b[1;33m\u001b[0m\u001b[0m\n\u001b[0;32m    821\u001b[0m                 \u001b[0mcallbacks\u001b[0m\u001b[1;33m.\u001b[0m\u001b[0mon_batch_begin\u001b[0m\u001b[1;33m(\u001b[0m\u001b[0mbatch_index\u001b[0m\u001b[1;33m,\u001b[0m \u001b[0mbatch_logs\u001b[0m\u001b[1;33m)\u001b[0m\u001b[1;33m\u001b[0m\u001b[0m\n\u001b[1;32m--> 822\u001b[1;33m                 \u001b[0mouts\u001b[0m \u001b[1;33m=\u001b[0m \u001b[0mf\u001b[0m\u001b[1;33m(\u001b[0m\u001b[0mins_batch\u001b[0m\u001b[1;33m)\u001b[0m\u001b[1;33m\u001b[0m\u001b[0m\n\u001b[0m\u001b[0;32m    823\u001b[0m                 \u001b[1;32mif\u001b[0m \u001b[0mtype\u001b[0m\u001b[1;33m(\u001b[0m\u001b[0mouts\u001b[0m\u001b[1;33m)\u001b[0m \u001b[1;33m!=\u001b[0m \u001b[0mlist\u001b[0m\u001b[1;33m:\u001b[0m\u001b[1;33m\u001b[0m\u001b[0m\n\u001b[0;32m    824\u001b[0m                     \u001b[0mouts\u001b[0m \u001b[1;33m=\u001b[0m \u001b[1;33m[\u001b[0m\u001b[0mouts\u001b[0m\u001b[1;33m]\u001b[0m\u001b[1;33m\u001b[0m\u001b[0m\n",
      "\u001b[1;32m/home/sandor/anaconda2/lib/python2.7/site-packages/keras/backend/theano_backend.pyc\u001b[0m in \u001b[0;36m__call__\u001b[1;34m(self, inputs)\u001b[0m\n\u001b[0;32m    670\u001b[0m     \u001b[1;32mdef\u001b[0m \u001b[0m__call__\u001b[0m\u001b[1;33m(\u001b[0m\u001b[0mself\u001b[0m\u001b[1;33m,\u001b[0m \u001b[0minputs\u001b[0m\u001b[1;33m)\u001b[0m\u001b[1;33m:\u001b[0m\u001b[1;33m\u001b[0m\u001b[0m\n\u001b[0;32m    671\u001b[0m         \u001b[1;32massert\u001b[0m \u001b[0mtype\u001b[0m\u001b[1;33m(\u001b[0m\u001b[0minputs\u001b[0m\u001b[1;33m)\u001b[0m \u001b[1;32min\u001b[0m \u001b[1;33m{\u001b[0m\u001b[0mlist\u001b[0m\u001b[1;33m,\u001b[0m \u001b[0mtuple\u001b[0m\u001b[1;33m}\u001b[0m\u001b[1;33m\u001b[0m\u001b[0m\n\u001b[1;32m--> 672\u001b[1;33m         \u001b[1;32mreturn\u001b[0m \u001b[0mself\u001b[0m\u001b[1;33m.\u001b[0m\u001b[0mfunction\u001b[0m\u001b[1;33m(\u001b[0m\u001b[1;33m*\u001b[0m\u001b[0minputs\u001b[0m\u001b[1;33m)\u001b[0m\u001b[1;33m\u001b[0m\u001b[0m\n\u001b[0m\u001b[0;32m    673\u001b[0m \u001b[1;33m\u001b[0m\u001b[0m\n\u001b[0;32m    674\u001b[0m \u001b[1;33m\u001b[0m\u001b[0m\n",
      "\u001b[1;32m/home/sandor/anaconda2/lib/python2.7/site-packages/theano/compile/function_module.pyc\u001b[0m in \u001b[0;36m__call__\u001b[1;34m(self, *args, **kwargs)\u001b[0m\n\u001b[0;32m    857\u001b[0m         \u001b[0mt0_fn\u001b[0m \u001b[1;33m=\u001b[0m \u001b[0mtime\u001b[0m\u001b[1;33m.\u001b[0m\u001b[0mtime\u001b[0m\u001b[1;33m(\u001b[0m\u001b[1;33m)\u001b[0m\u001b[1;33m\u001b[0m\u001b[0m\n\u001b[0;32m    858\u001b[0m         \u001b[1;32mtry\u001b[0m\u001b[1;33m:\u001b[0m\u001b[1;33m\u001b[0m\u001b[0m\n\u001b[1;32m--> 859\u001b[1;33m             \u001b[0moutputs\u001b[0m \u001b[1;33m=\u001b[0m \u001b[0mself\u001b[0m\u001b[1;33m.\u001b[0m\u001b[0mfn\u001b[0m\u001b[1;33m(\u001b[0m\u001b[1;33m)\u001b[0m\u001b[1;33m\u001b[0m\u001b[0m\n\u001b[0m\u001b[0;32m    860\u001b[0m         \u001b[1;32mexcept\u001b[0m \u001b[0mException\u001b[0m\u001b[1;33m:\u001b[0m\u001b[1;33m\u001b[0m\u001b[0m\n\u001b[0;32m    861\u001b[0m             \u001b[1;32mif\u001b[0m \u001b[0mhasattr\u001b[0m\u001b[1;33m(\u001b[0m\u001b[0mself\u001b[0m\u001b[1;33m.\u001b[0m\u001b[0mfn\u001b[0m\u001b[1;33m,\u001b[0m \u001b[1;34m'position_of_error'\u001b[0m\u001b[1;33m)\u001b[0m\u001b[1;33m:\u001b[0m\u001b[1;33m\u001b[0m\u001b[0m\n",
      "\u001b[1;31mKeyboardInterrupt\u001b[0m: "
     ]
    }
   ],
   "source": [
    "# create and fit the LSTM network\n",
    "model = Sequential()\n",
    "model.add(LSTM(128, input_dim=traX.shape[2], return_sequences=True))\n",
    "#model.add(Dropout(0.2))\n",
    "model.add(LSTM(128, return_sequences=True))\n",
    "#model.add(Dropout(0.2))\n",
    "#model.add(LSTM(128,return_sequences=True))\n",
    "#model.add(Dropout(0.2))\n",
    "model.add(LSTM(12))\n",
    "#model.add(Flatten())\n",
    "model.add(Dense(1, W_regularizer=l2(1e-6), activity_regularizer=activity_l2(1e-6)))\n",
    "model.compile(loss='mean_squared_error', optimizer='rmsprop')\n",
    "\n",
    "hist = model.fit(traX, traY, nb_epoch=60, batch_size=1, verbose=2, validation_split=0.3)"
   ]
  },
  {
   "cell_type": "code",
   "execution_count": null,
   "metadata": {
    "collapsed": false,
    "scrolled": true
   },
   "outputs": [],
   "source": [
    "plt.plot(hist.history['loss'])\n",
    "plt.plot(hist.history['val_loss'])\n",
    "plt.title('model loss')\n",
    "plt.ylabel('loss')\n",
    "plt.xlabel('epoch')\n",
    "plt.legend(['train', 'test'], loc='upper left')"
   ]
  },
  {
   "cell_type": "code",
   "execution_count": null,
   "metadata": {
    "collapsed": false
   },
   "outputs": [],
   "source": [
    "# generate predictions for training\n",
    "trainPredict = model.predict(traX)\n",
    "testPredict = model.predict(tesX)"
   ]
  },
  {
   "cell_type": "code",
   "execution_count": null,
   "metadata": {
    "collapsed": false
   },
   "outputs": [],
   "source": [
    "trainPredict.shape"
   ]
  },
  {
   "cell_type": "code",
   "execution_count": null,
   "metadata": {
    "collapsed": false
   },
   "outputs": [],
   "source": [
    "final = data[['Date', 'variable']]\n",
    "final.ix[:, 'true_val'] = true_val\n",
    "final.ix[final['Date']<CUTOFF, 'train_pred'] = trainPredict\n",
    "final.ix[final['Date']>=CUTOFF, 'test_pred'] = testPredict\n",
    "final['train'] = final['true_val'] * (1+final['train_pred'])\n",
    "final['test'] = final['true_val'] * (1+final['test_pred'])"
   ]
  },
  {
   "cell_type": "code",
   "execution_count": null,
   "metadata": {
    "collapsed": false,
    "scrolled": true
   },
   "outputs": [],
   "source": [
    "final[final['variable']=='Sao Paulo'].head()"
   ]
  },
  {
   "cell_type": "code",
   "execution_count": null,
   "metadata": {
    "collapsed": false
   },
   "outputs": [],
   "source": [
    "data.variable.unique()"
   ]
  },
  {
   "cell_type": "code",
   "execution_count": null,
   "metadata": {
    "collapsed": false
   },
   "outputs": [],
   "source": [
    "est = []\n",
    "tr = []\n",
    "te = []\n",
    "for e in final['variable'].unique():\n",
    "    f1 = (final['variable']==e) & (final['Date']<CUTOFF)\n",
    "    f2 = (final['variable']==e) & (final['Date']>=CUTOFF)\n",
    "    \n",
    "    est.append(e)\n",
    "    tr.append(r2_score(final.ix[f1,'true_val'],final.ix[f1,'train']))\n",
    "    te.append(r2_score(final.ix[f2,'true_val'],final.ix[f2,'test']))\n",
    "    \n",
    "pd.DataFrame({'estado':est, 'train-R2':tr, 'test-R2':te})[['estado', 'train-R2', 'test-R2']]\n",
    "    "
   ]
  },
  {
   "cell_type": "code",
   "execution_count": null,
   "metadata": {
    "collapsed": false
   },
   "outputs": [],
   "source": [
    "# plot baseline and predictions\n",
    "estado = 'Sao Paulo'\n",
    "f1 = (final['variable']==estado) & (final['Date']<CUTOFF)\n",
    "f2 = (final['variable']==estado) & (final['Date']>=CUTOFF)\n",
    "\n",
    "print estado, r2_score(final.ix[f1,'true_val'],final.ix[f1,'train']), r2_score(final.ix[f2,'true_val'],final.ix[f2,'test'])\n",
    "\n",
    "plt.figure(figsize=(20,10))\n",
    "plt.plot(final.ix[final['variable']==estado, 'true_val'])\n",
    "plt.plot(final.ix[final['variable']==estado, 'train'])\n",
    "plt.plot(final.ix[final['variable']==estado, 'test'])\n",
    "''"
   ]
  },
  {
   "cell_type": "code",
   "execution_count": null,
   "metadata": {
    "collapsed": true
   },
   "outputs": [],
   "source": []
  },
  {
   "cell_type": "code",
   "execution_count": null,
   "metadata": {
    "collapsed": true
   },
   "outputs": [],
   "source": []
  },
  {
   "cell_type": "code",
   "execution_count": null,
   "metadata": {
    "collapsed": true
   },
   "outputs": [],
   "source": []
  },
  {
   "cell_type": "code",
   "execution_count": null,
   "metadata": {
    "collapsed": true
   },
   "outputs": [],
   "source": []
  },
  {
   "cell_type": "code",
   "execution_count": null,
   "metadata": {
    "collapsed": true
   },
   "outputs": [],
   "source": []
  },
  {
   "cell_type": "code",
   "execution_count": null,
   "metadata": {
    "collapsed": true
   },
   "outputs": [],
   "source": []
  },
  {
   "cell_type": "code",
   "execution_count": null,
   "metadata": {
    "collapsed": true
   },
   "outputs": [],
   "source": []
  }
 ],
 "metadata": {
  "kernelspec": {
   "display_name": "Python [Root]",
   "language": "python",
   "name": "Python [Root]"
  },
  "language_info": {
   "codemirror_mode": {
    "name": "ipython",
    "version": 2
   },
   "file_extension": ".py",
   "mimetype": "text/x-python",
   "name": "python",
   "nbconvert_exporter": "python",
   "pygments_lexer": "ipython2",
   "version": "2.7.12"
  }
 },
 "nbformat": 4,
 "nbformat_minor": 1
}
