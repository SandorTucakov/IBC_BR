{
 "cells": [
  {
   "cell_type": "markdown",
   "metadata": {},
   "source": [
    "http://www.sidra.ibge.gov.br/bda/tabela/listabl.asp?z=t&o=22&i=P&c=3653"
   ]
  },
  {
   "cell_type": "markdown",
   "metadata": {},
   "source": [
    "https://dadosdadosdados.wordpress.com/2015/09/25/trabalhando-com-series-temporais-no-r-parte-i-2/"
   ]
  },
  {
   "cell_type": "code",
   "execution_count": 563,
   "metadata": {
    "collapsed": false
   },
   "outputs": [],
   "source": [
    "%matplotlib inline\n",
    "from unidecode import unidecode\n",
    "import numpy\n",
    "import matplotlib.pyplot as plt\n",
    "import pandas\n",
    "import math\n",
    "from keras.models import Sequential\n",
    "from keras.layers import Dense, Dropout, Flatten\n",
    "from keras.layers import LSTM\n",
    "from sklearn.preprocessing import MinMaxScaler\n",
    "from keras.regularizers import l2, activity_l2\n",
    "\n",
    "from sklearn.metrics import r2_score"
   ]
  },
  {
   "cell_type": "code",
   "execution_count": 564,
   "metadata": {
    "collapsed": false
   },
   "outputs": [],
   "source": [
    "dataset = pd.read_csv('PIN.csv', sep=';', skiprows=3,header=1,skipfooter=1, engine='python', encoding='ISO-8859-1')\n",
    "dataset.columns = [unidecode(x) for x in dataset.columns]"
   ]
  },
  {
   "cell_type": "code",
   "execution_count": 565,
   "metadata": {
    "collapsed": false
   },
   "outputs": [
    {
     "data": {
      "text/plain": [
       "Index([u'Unnamed: 0', u'Brasil', u'Amazonas', u'Para', u'Ceara', u'Pernambuco',\n",
       "       u'Bahia', u'Minas Gerais', u'Espirito Santo', u'Rio de Janeiro',\n",
       "       u'Sao Paulo', u'Parana', u'Santa Catarina', u'Rio Grande do Sul',\n",
       "       u'Mato Grosso', u'Goias'],\n",
       "      dtype='object')"
      ]
     },
     "execution_count": 565,
     "metadata": {},
     "output_type": "execute_result"
    }
   ],
   "source": [
    "dataset.columns"
   ]
  },
  {
   "cell_type": "code",
   "execution_count": 566,
   "metadata": {
    "collapsed": false
   },
   "outputs": [],
   "source": [
    "for c in dataset.columns[1:]:\n",
    "    dataset[c] = dataset[c].str.replace(',','.').replace('-',np.nan).astype(float)\n"
   ]
  },
  {
   "cell_type": "code",
   "execution_count": 567,
   "metadata": {
    "collapsed": false
   },
   "outputs": [
    {
     "data": {
      "text/html": [
       "<div>\n",
       "<table border=\"1\" class=\"dataframe\">\n",
       "  <thead>\n",
       "    <tr style=\"text-align: right;\">\n",
       "      <th></th>\n",
       "      <th>Unnamed: 0</th>\n",
       "      <th>Brasil</th>\n",
       "      <th>Amazonas</th>\n",
       "      <th>Para</th>\n",
       "      <th>Ceara</th>\n",
       "      <th>Pernambuco</th>\n",
       "      <th>Bahia</th>\n",
       "      <th>Minas Gerais</th>\n",
       "      <th>Espirito Santo</th>\n",
       "      <th>Rio de Janeiro</th>\n",
       "      <th>Sao Paulo</th>\n",
       "      <th>Parana</th>\n",
       "      <th>Santa Catarina</th>\n",
       "      <th>Rio Grande do Sul</th>\n",
       "      <th>Mato Grosso</th>\n",
       "      <th>Goias</th>\n",
       "    </tr>\n",
       "  </thead>\n",
       "  <tbody>\n",
       "    <tr>\n",
       "      <th>0</th>\n",
       "      <td>janeiro 2002</td>\n",
       "      <td>72.4</td>\n",
       "      <td>59.1</td>\n",
       "      <td>53.0</td>\n",
       "      <td>89.7</td>\n",
       "      <td>77.9</td>\n",
       "      <td>81.1</td>\n",
       "      <td>73.0</td>\n",
       "      <td>67.1</td>\n",
       "      <td>83.4</td>\n",
       "      <td>68.6</td>\n",
       "      <td>55.2</td>\n",
       "      <td>90.0</td>\n",
       "      <td>85.4</td>\n",
       "      <td>NaN</td>\n",
       "      <td>48.2</td>\n",
       "    </tr>\n",
       "    <tr>\n",
       "      <th>1</th>\n",
       "      <td>fevereiro 2002</td>\n",
       "      <td>69.7</td>\n",
       "      <td>57.9</td>\n",
       "      <td>55.1</td>\n",
       "      <td>80.2</td>\n",
       "      <td>66.3</td>\n",
       "      <td>72.4</td>\n",
       "      <td>66.8</td>\n",
       "      <td>61.5</td>\n",
       "      <td>77.3</td>\n",
       "      <td>68.0</td>\n",
       "      <td>56.2</td>\n",
       "      <td>89.4</td>\n",
       "      <td>84.3</td>\n",
       "      <td>NaN</td>\n",
       "      <td>55.8</td>\n",
       "    </tr>\n",
       "    <tr>\n",
       "      <th>2</th>\n",
       "      <td>março 2002</td>\n",
       "      <td>77.4</td>\n",
       "      <td>65.5</td>\n",
       "      <td>61.6</td>\n",
       "      <td>88.0</td>\n",
       "      <td>67.0</td>\n",
       "      <td>78.3</td>\n",
       "      <td>75.7</td>\n",
       "      <td>62.9</td>\n",
       "      <td>84.8</td>\n",
       "      <td>74.8</td>\n",
       "      <td>62.2</td>\n",
       "      <td>93.8</td>\n",
       "      <td>98.8</td>\n",
       "      <td>NaN</td>\n",
       "      <td>62.3</td>\n",
       "    </tr>\n",
       "    <tr>\n",
       "      <th>3</th>\n",
       "      <td>abril 2002</td>\n",
       "      <td>79.6</td>\n",
       "      <td>73.7</td>\n",
       "      <td>59.3</td>\n",
       "      <td>90.6</td>\n",
       "      <td>67.7</td>\n",
       "      <td>75.0</td>\n",
       "      <td>72.7</td>\n",
       "      <td>66.8</td>\n",
       "      <td>86.9</td>\n",
       "      <td>76.8</td>\n",
       "      <td>65.1</td>\n",
       "      <td>98.3</td>\n",
       "      <td>108.2</td>\n",
       "      <td>NaN</td>\n",
       "      <td>63.4</td>\n",
       "    </tr>\n",
       "    <tr>\n",
       "      <th>4</th>\n",
       "      <td>maio 2002</td>\n",
       "      <td>80.4</td>\n",
       "      <td>66.7</td>\n",
       "      <td>58.8</td>\n",
       "      <td>90.4</td>\n",
       "      <td>67.8</td>\n",
       "      <td>72.4</td>\n",
       "      <td>74.8</td>\n",
       "      <td>67.8</td>\n",
       "      <td>88.3</td>\n",
       "      <td>79.6</td>\n",
       "      <td>62.7</td>\n",
       "      <td>96.2</td>\n",
       "      <td>109.8</td>\n",
       "      <td>NaN</td>\n",
       "      <td>63.8</td>\n",
       "    </tr>\n",
       "  </tbody>\n",
       "</table>\n",
       "</div>"
      ],
      "text/plain": [
       "       Unnamed: 0  Brasil  Amazonas  Para  Ceara  Pernambuco  Bahia  \\\n",
       "0    janeiro 2002    72.4      59.1  53.0   89.7        77.9   81.1   \n",
       "1  fevereiro 2002    69.7      57.9  55.1   80.2        66.3   72.4   \n",
       "2      março 2002    77.4      65.5  61.6   88.0        67.0   78.3   \n",
       "3      abril 2002    79.6      73.7  59.3   90.6        67.7   75.0   \n",
       "4       maio 2002    80.4      66.7  58.8   90.4        67.8   72.4   \n",
       "\n",
       "   Minas Gerais  Espirito Santo  Rio de Janeiro  Sao Paulo  Parana  \\\n",
       "0          73.0            67.1            83.4       68.6    55.2   \n",
       "1          66.8            61.5            77.3       68.0    56.2   \n",
       "2          75.7            62.9            84.8       74.8    62.2   \n",
       "3          72.7            66.8            86.9       76.8    65.1   \n",
       "4          74.8            67.8            88.3       79.6    62.7   \n",
       "\n",
       "   Santa Catarina  Rio Grande do Sul  Mato Grosso  Goias  \n",
       "0            90.0               85.4          NaN   48.2  \n",
       "1            89.4               84.3          NaN   55.8  \n",
       "2            93.8               98.8          NaN   62.3  \n",
       "3            98.3              108.2          NaN   63.4  \n",
       "4            96.2              109.8          NaN   63.8  "
      ]
     },
     "execution_count": 567,
     "metadata": {},
     "output_type": "execute_result"
    }
   ],
   "source": [
    "dataset.head()"
   ]
  },
  {
   "cell_type": "code",
   "execution_count": 568,
   "metadata": {
    "collapsed": false
   },
   "outputs": [
    {
     "data": {
      "text/plain": [
       "[<matplotlib.lines.Line2D at 0x7f1c55d04310>]"
      ]
     },
     "execution_count": 568,
     "metadata": {},
     "output_type": "execute_result"
    },
    {
     "data": {
      "image/png": "[encoded data removed]",
      "text/plain": [
       "<matplotlib.figure.Figure at 0x7f1c55d043d0>"
      ]
     },
     "metadata": {},
     "output_type": "display_data"
    }
   ],
   "source": [
    "plt.plot(dataset['Sao Paulo'])\n",
    "plt.plot(dataset['Rio de Janeiro'])\n",
    "#plt.plot(dataset['Rio Grande do Sul'])"
   ]
  },
  {
   "cell_type": "code",
   "execution_count": 569,
   "metadata": {
    "collapsed": true
   },
   "outputs": [],
   "source": [
    "# fix random seed for reproducibility\n",
    "numpy.random.seed(42)"
   ]
  },
  {
   "cell_type": "code",
   "execution_count": 570,
   "metadata": {
    "collapsed": true
   },
   "outputs": [],
   "source": [
    "# load the dataset\n",
    "# remove columns\n",
    "#del dataset['Unnamed: 0']\n",
    "del dataset['Brasil']"
   ]
  },
  {
   "cell_type": "markdown",
   "metadata": {},
   "source": [
    "### Add trend and seasonal factor"
   ]
  },
  {
   "cell_type": "code",
   "execution_count": 571,
   "metadata": {
    "collapsed": false
   },
   "outputs": [],
   "source": [
    "#seasonal = pd.get_dummies(dataframe['DATA'].apply(lambda x: int(str(x).split('.')[-1])))\n",
    "#seasonal.columns = ['D'+str(x) for x in range(1,12)]"
   ]
  },
  {
   "cell_type": "code",
   "execution_count": 572,
   "metadata": {
    "collapsed": false
   },
   "outputs": [],
   "source": [
    "#data = pd.concat([dataframe, seasonal], axis=1)\n",
    "#data['TREND'] = range(0, dataframe.shape[0])"
   ]
  },
  {
   "cell_type": "code",
   "execution_count": 573,
   "metadata": {
    "collapsed": false
   },
   "outputs": [],
   "source": [
    "#data['LAG_IBC_BR'] = data.groupby(['DATA'])['IBC_BR'].mean().shift(1).reset_index(drop=True)"
   ]
  },
  {
   "cell_type": "code",
   "execution_count": 574,
   "metadata": {
    "collapsed": false
   },
   "outputs": [],
   "source": [
    "#data = data.rename(columns={'IBC_BR':'TARGET'})"
   ]
  },
  {
   "cell_type": "code",
   "execution_count": 575,
   "metadata": {
    "collapsed": true
   },
   "outputs": [],
   "source": [
    "#data = data.fillna(0)"
   ]
  },
  {
   "cell_type": "code",
   "execution_count": 576,
   "metadata": {
    "collapsed": false
   },
   "outputs": [],
   "source": [
    "#del data['DATA']"
   ]
  },
  {
   "cell_type": "code",
   "execution_count": 577,
   "metadata": {
    "collapsed": true
   },
   "outputs": [],
   "source": [
    "def date_convertator(series):\n",
    "    months = {'janeiro':'01',\n",
    "              'fevereiro':'02',\n",
    "              'marco':'03',\n",
    "              'abril':'04',\n",
    "              'maio':'05',\n",
    "              'junho':'06',\n",
    "              'julho':'07',\n",
    "              'agosto':'08',\n",
    "              'setembro':'09',\n",
    "              'outubro':'10',\n",
    "              'novembro':'11',\n",
    "              'dezembro':'12'}\n",
    "\n",
    "    dates = series.str.split(' ', expand=True)\n",
    "    dates[0] = dates[0].apply(lambda x: unidecode(x))\n",
    "    for key, value in months.iteritems():\n",
    "\n",
    "        dates[0] = dates[0].str.replace(key, value)\n",
    "\n",
    "    date_vec = pd.to_datetime(dates[1]+ '-' + dates[0])\n",
    "    return date_vec"
   ]
  },
  {
   "cell_type": "code",
   "execution_count": 578,
   "metadata": {
    "collapsed": false
   },
   "outputs": [],
   "source": [
    "dataset['Date'] = date_convertator(dataset['Unnamed: 0'])\n",
    "del dataset['Unnamed: 0']"
   ]
  },
  {
   "cell_type": "code",
   "execution_count": 579,
   "metadata": {
    "collapsed": false
   },
   "outputs": [
    {
     "data": {
      "text/html": [
       "<div>\n",
       "<table border=\"1\" class=\"dataframe\">\n",
       "  <thead>\n",
       "    <tr style=\"text-align: right;\">\n",
       "      <th></th>\n",
       "      <th>Amazonas</th>\n",
       "      <th>Para</th>\n",
       "      <th>Ceara</th>\n",
       "      <th>Pernambuco</th>\n",
       "      <th>Bahia</th>\n",
       "      <th>Minas Gerais</th>\n",
       "      <th>Espirito Santo</th>\n",
       "      <th>Rio de Janeiro</th>\n",
       "      <th>Sao Paulo</th>\n",
       "      <th>Parana</th>\n",
       "      <th>Santa Catarina</th>\n",
       "      <th>Rio Grande do Sul</th>\n",
       "      <th>Mato Grosso</th>\n",
       "      <th>Goias</th>\n",
       "      <th>Date</th>\n",
       "    </tr>\n",
       "  </thead>\n",
       "  <tbody>\n",
       "    <tr>\n",
       "      <th>0</th>\n",
       "      <td>59.1</td>\n",
       "      <td>53.0</td>\n",
       "      <td>89.7</td>\n",
       "      <td>77.9</td>\n",
       "      <td>81.1</td>\n",
       "      <td>73.0</td>\n",
       "      <td>67.1</td>\n",
       "      <td>83.4</td>\n",
       "      <td>68.6</td>\n",
       "      <td>55.2</td>\n",
       "      <td>90.0</td>\n",
       "      <td>85.4</td>\n",
       "      <td>NaN</td>\n",
       "      <td>48.2</td>\n",
       "      <td>2002-01-01</td>\n",
       "    </tr>\n",
       "    <tr>\n",
       "      <th>1</th>\n",
       "      <td>57.9</td>\n",
       "      <td>55.1</td>\n",
       "      <td>80.2</td>\n",
       "      <td>66.3</td>\n",
       "      <td>72.4</td>\n",
       "      <td>66.8</td>\n",
       "      <td>61.5</td>\n",
       "      <td>77.3</td>\n",
       "      <td>68.0</td>\n",
       "      <td>56.2</td>\n",
       "      <td>89.4</td>\n",
       "      <td>84.3</td>\n",
       "      <td>NaN</td>\n",
       "      <td>55.8</td>\n",
       "      <td>2002-02-01</td>\n",
       "    </tr>\n",
       "    <tr>\n",
       "      <th>2</th>\n",
       "      <td>65.5</td>\n",
       "      <td>61.6</td>\n",
       "      <td>88.0</td>\n",
       "      <td>67.0</td>\n",
       "      <td>78.3</td>\n",
       "      <td>75.7</td>\n",
       "      <td>62.9</td>\n",
       "      <td>84.8</td>\n",
       "      <td>74.8</td>\n",
       "      <td>62.2</td>\n",
       "      <td>93.8</td>\n",
       "      <td>98.8</td>\n",
       "      <td>NaN</td>\n",
       "      <td>62.3</td>\n",
       "      <td>2002-03-01</td>\n",
       "    </tr>\n",
       "    <tr>\n",
       "      <th>3</th>\n",
       "      <td>73.7</td>\n",
       "      <td>59.3</td>\n",
       "      <td>90.6</td>\n",
       "      <td>67.7</td>\n",
       "      <td>75.0</td>\n",
       "      <td>72.7</td>\n",
       "      <td>66.8</td>\n",
       "      <td>86.9</td>\n",
       "      <td>76.8</td>\n",
       "      <td>65.1</td>\n",
       "      <td>98.3</td>\n",
       "      <td>108.2</td>\n",
       "      <td>NaN</td>\n",
       "      <td>63.4</td>\n",
       "      <td>2002-04-01</td>\n",
       "    </tr>\n",
       "    <tr>\n",
       "      <th>4</th>\n",
       "      <td>66.7</td>\n",
       "      <td>58.8</td>\n",
       "      <td>90.4</td>\n",
       "      <td>67.8</td>\n",
       "      <td>72.4</td>\n",
       "      <td>74.8</td>\n",
       "      <td>67.8</td>\n",
       "      <td>88.3</td>\n",
       "      <td>79.6</td>\n",
       "      <td>62.7</td>\n",
       "      <td>96.2</td>\n",
       "      <td>109.8</td>\n",
       "      <td>NaN</td>\n",
       "      <td>63.8</td>\n",
       "      <td>2002-05-01</td>\n",
       "    </tr>\n",
       "  </tbody>\n",
       "</table>\n",
       "</div>"
      ],
      "text/plain": [
       "   Amazonas  Para  Ceara  Pernambuco  Bahia  Minas Gerais  Espirito Santo  \\\n",
       "0      59.1  53.0   89.7        77.9   81.1          73.0            67.1   \n",
       "1      57.9  55.1   80.2        66.3   72.4          66.8            61.5   \n",
       "2      65.5  61.6   88.0        67.0   78.3          75.7            62.9   \n",
       "3      73.7  59.3   90.6        67.7   75.0          72.7            66.8   \n",
       "4      66.7  58.8   90.4        67.8   72.4          74.8            67.8   \n",
       "\n",
       "   Rio de Janeiro  Sao Paulo  Parana  Santa Catarina  Rio Grande do Sul  \\\n",
       "0            83.4       68.6    55.2            90.0               85.4   \n",
       "1            77.3       68.0    56.2            89.4               84.3   \n",
       "2            84.8       74.8    62.2            93.8               98.8   \n",
       "3            86.9       76.8    65.1            98.3              108.2   \n",
       "4            88.3       79.6    62.7            96.2              109.8   \n",
       "\n",
       "   Mato Grosso  Goias       Date  \n",
       "0          NaN   48.2 2002-01-01  \n",
       "1          NaN   55.8 2002-02-01  \n",
       "2          NaN   62.3 2002-03-01  \n",
       "3          NaN   63.4 2002-04-01  \n",
       "4          NaN   63.8 2002-05-01  "
      ]
     },
     "execution_count": 579,
     "metadata": {},
     "output_type": "execute_result"
    }
   ],
   "source": [
    "dataset.head()"
   ]
  },
  {
   "cell_type": "code",
   "execution_count": 580,
   "metadata": {
    "collapsed": true
   },
   "outputs": [],
   "source": [
    "def laggator(df, lags=12):\n",
    "    data = pd.melt(df.groupby('Date').sum().reset_index(),id_vars='Date')\n",
    "    \n",
    "    for l in range(1,lags+1):\n",
    "        zero = pd.melt(df.groupby('Date').sum().shift(l-1).reset_index(),id_vars='Date')['value']  \n",
    "        data['L' + str(l-1)] = zero / pd.melt(df.groupby('Date').sum().shift(l).reset_index(),id_vars='Date')['value']-1\n",
    "    \n",
    "    return data"
   ]
  },
  {
   "cell_type": "code",
   "execution_count": 581,
   "metadata": {
    "collapsed": true
   },
   "outputs": [],
   "source": [
    "LAGS = 13\n",
    "data = laggator(dataset, LAGS)\n",
    "data = data.fillna(0)\n",
    "true_val = data['value']\n",
    "del data['value']"
   ]
  },
  {
   "cell_type": "code",
   "execution_count": 582,
   "metadata": {
    "collapsed": false
   },
   "outputs": [
    {
     "data": {
      "text/html": [
       "<div>\n",
       "<table border=\"1\" class=\"dataframe\">\n",
       "  <thead>\n",
       "    <tr style=\"text-align: right;\">\n",
       "      <th></th>\n",
       "      <th>Date</th>\n",
       "      <th>variable</th>\n",
       "      <th>L0</th>\n",
       "      <th>L1</th>\n",
       "      <th>L2</th>\n",
       "      <th>L3</th>\n",
       "      <th>L4</th>\n",
       "      <th>L5</th>\n",
       "      <th>L6</th>\n",
       "      <th>L7</th>\n",
       "      <th>L8</th>\n",
       "      <th>L9</th>\n",
       "      <th>L10</th>\n",
       "      <th>L11</th>\n",
       "      <th>L12</th>\n",
       "    </tr>\n",
       "  </thead>\n",
       "  <tbody>\n",
       "    <tr>\n",
       "      <th>1408</th>\n",
       "      <td>2002-01-01</td>\n",
       "      <td>Sao Paulo</td>\n",
       "      <td>0.000000</td>\n",
       "      <td>0.000000</td>\n",
       "      <td>0.000000</td>\n",
       "      <td>0.000000</td>\n",
       "      <td>0.0</td>\n",
       "      <td>0.0</td>\n",
       "      <td>0.0</td>\n",
       "      <td>0.0</td>\n",
       "      <td>0.0</td>\n",
       "      <td>0.0</td>\n",
       "      <td>0.0</td>\n",
       "      <td>0.0</td>\n",
       "      <td>0.0</td>\n",
       "    </tr>\n",
       "    <tr>\n",
       "      <th>1409</th>\n",
       "      <td>2002-02-01</td>\n",
       "      <td>Sao Paulo</td>\n",
       "      <td>-0.008746</td>\n",
       "      <td>0.000000</td>\n",
       "      <td>0.000000</td>\n",
       "      <td>0.000000</td>\n",
       "      <td>0.0</td>\n",
       "      <td>0.0</td>\n",
       "      <td>0.0</td>\n",
       "      <td>0.0</td>\n",
       "      <td>0.0</td>\n",
       "      <td>0.0</td>\n",
       "      <td>0.0</td>\n",
       "      <td>0.0</td>\n",
       "      <td>0.0</td>\n",
       "    </tr>\n",
       "    <tr>\n",
       "      <th>1410</th>\n",
       "      <td>2002-03-01</td>\n",
       "      <td>Sao Paulo</td>\n",
       "      <td>0.100000</td>\n",
       "      <td>-0.008746</td>\n",
       "      <td>0.000000</td>\n",
       "      <td>0.000000</td>\n",
       "      <td>0.0</td>\n",
       "      <td>0.0</td>\n",
       "      <td>0.0</td>\n",
       "      <td>0.0</td>\n",
       "      <td>0.0</td>\n",
       "      <td>0.0</td>\n",
       "      <td>0.0</td>\n",
       "      <td>0.0</td>\n",
       "      <td>0.0</td>\n",
       "    </tr>\n",
       "    <tr>\n",
       "      <th>1411</th>\n",
       "      <td>2002-04-01</td>\n",
       "      <td>Sao Paulo</td>\n",
       "      <td>0.026738</td>\n",
       "      <td>0.100000</td>\n",
       "      <td>-0.008746</td>\n",
       "      <td>0.000000</td>\n",
       "      <td>0.0</td>\n",
       "      <td>0.0</td>\n",
       "      <td>0.0</td>\n",
       "      <td>0.0</td>\n",
       "      <td>0.0</td>\n",
       "      <td>0.0</td>\n",
       "      <td>0.0</td>\n",
       "      <td>0.0</td>\n",
       "      <td>0.0</td>\n",
       "    </tr>\n",
       "    <tr>\n",
       "      <th>1412</th>\n",
       "      <td>2002-05-01</td>\n",
       "      <td>Sao Paulo</td>\n",
       "      <td>0.036458</td>\n",
       "      <td>0.026738</td>\n",
       "      <td>0.100000</td>\n",
       "      <td>-0.008746</td>\n",
       "      <td>0.0</td>\n",
       "      <td>0.0</td>\n",
       "      <td>0.0</td>\n",
       "      <td>0.0</td>\n",
       "      <td>0.0</td>\n",
       "      <td>0.0</td>\n",
       "      <td>0.0</td>\n",
       "      <td>0.0</td>\n",
       "      <td>0.0</td>\n",
       "    </tr>\n",
       "  </tbody>\n",
       "</table>\n",
       "</div>"
      ],
      "text/plain": [
       "           Date   variable        L0        L1        L2        L3   L4   L5  \\\n",
       "1408 2002-01-01  Sao Paulo  0.000000  0.000000  0.000000  0.000000  0.0  0.0   \n",
       "1409 2002-02-01  Sao Paulo -0.008746  0.000000  0.000000  0.000000  0.0  0.0   \n",
       "1410 2002-03-01  Sao Paulo  0.100000 -0.008746  0.000000  0.000000  0.0  0.0   \n",
       "1411 2002-04-01  Sao Paulo  0.026738  0.100000 -0.008746  0.000000  0.0  0.0   \n",
       "1412 2002-05-01  Sao Paulo  0.036458  0.026738  0.100000 -0.008746  0.0  0.0   \n",
       "\n",
       "       L6   L7   L8   L9  L10  L11  L12  \n",
       "1408  0.0  0.0  0.0  0.0  0.0  0.0  0.0  \n",
       "1409  0.0  0.0  0.0  0.0  0.0  0.0  0.0  \n",
       "1410  0.0  0.0  0.0  0.0  0.0  0.0  0.0  \n",
       "1411  0.0  0.0  0.0  0.0  0.0  0.0  0.0  \n",
       "1412  0.0  0.0  0.0  0.0  0.0  0.0  0.0  "
      ]
     },
     "execution_count": 582,
     "metadata": {},
     "output_type": "execute_result"
    }
   ],
   "source": [
    "data.ix[data.variable=='Sao Paulo',:].head()"
   ]
  },
  {
   "cell_type": "code",
   "execution_count": 583,
   "metadata": {
    "collapsed": true
   },
   "outputs": [],
   "source": [
    "CUTOFF = '2015-01-01'"
   ]
  },
  {
   "cell_type": "code",
   "execution_count": 584,
   "metadata": {
    "collapsed": false
   },
   "outputs": [],
   "source": [
    "train = data.ix[data['Date']<CUTOFF,:]\n",
    "test = data.ix[data['Date']>=CUTOFF,:]"
   ]
  },
  {
   "cell_type": "code",
   "execution_count": 585,
   "metadata": {
    "collapsed": false
   },
   "outputs": [
    {
     "data": {
      "text/html": [
       "<div>\n",
       "<table border=\"1\" class=\"dataframe\">\n",
       "  <thead>\n",
       "    <tr style=\"text-align: right;\">\n",
       "      <th></th>\n",
       "      <th>Date</th>\n",
       "      <th>variable</th>\n",
       "      <th>L0</th>\n",
       "      <th>L1</th>\n",
       "      <th>L2</th>\n",
       "      <th>L3</th>\n",
       "      <th>L4</th>\n",
       "      <th>L5</th>\n",
       "      <th>L6</th>\n",
       "      <th>L7</th>\n",
       "      <th>L8</th>\n",
       "      <th>L9</th>\n",
       "      <th>L10</th>\n",
       "      <th>L11</th>\n",
       "      <th>L12</th>\n",
       "    </tr>\n",
       "  </thead>\n",
       "  <tbody>\n",
       "    <tr>\n",
       "      <th>0</th>\n",
       "      <td>2002-01-01</td>\n",
       "      <td>Amazonas</td>\n",
       "      <td>0.000000</td>\n",
       "      <td>0.000000</td>\n",
       "      <td>0.000000</td>\n",
       "      <td>0.000000</td>\n",
       "      <td>0.0</td>\n",
       "      <td>0.0</td>\n",
       "      <td>0.0</td>\n",
       "      <td>0.0</td>\n",
       "      <td>0.0</td>\n",
       "      <td>0.0</td>\n",
       "      <td>0.0</td>\n",
       "      <td>0.0</td>\n",
       "      <td>0.0</td>\n",
       "    </tr>\n",
       "    <tr>\n",
       "      <th>1</th>\n",
       "      <td>2002-02-01</td>\n",
       "      <td>Amazonas</td>\n",
       "      <td>-0.020305</td>\n",
       "      <td>0.000000</td>\n",
       "      <td>0.000000</td>\n",
       "      <td>0.000000</td>\n",
       "      <td>0.0</td>\n",
       "      <td>0.0</td>\n",
       "      <td>0.0</td>\n",
       "      <td>0.0</td>\n",
       "      <td>0.0</td>\n",
       "      <td>0.0</td>\n",
       "      <td>0.0</td>\n",
       "      <td>0.0</td>\n",
       "      <td>0.0</td>\n",
       "    </tr>\n",
       "    <tr>\n",
       "      <th>2</th>\n",
       "      <td>2002-03-01</td>\n",
       "      <td>Amazonas</td>\n",
       "      <td>0.131261</td>\n",
       "      <td>-0.020305</td>\n",
       "      <td>0.000000</td>\n",
       "      <td>0.000000</td>\n",
       "      <td>0.0</td>\n",
       "      <td>0.0</td>\n",
       "      <td>0.0</td>\n",
       "      <td>0.0</td>\n",
       "      <td>0.0</td>\n",
       "      <td>0.0</td>\n",
       "      <td>0.0</td>\n",
       "      <td>0.0</td>\n",
       "      <td>0.0</td>\n",
       "    </tr>\n",
       "    <tr>\n",
       "      <th>3</th>\n",
       "      <td>2002-04-01</td>\n",
       "      <td>Amazonas</td>\n",
       "      <td>0.125191</td>\n",
       "      <td>0.131261</td>\n",
       "      <td>-0.020305</td>\n",
       "      <td>0.000000</td>\n",
       "      <td>0.0</td>\n",
       "      <td>0.0</td>\n",
       "      <td>0.0</td>\n",
       "      <td>0.0</td>\n",
       "      <td>0.0</td>\n",
       "      <td>0.0</td>\n",
       "      <td>0.0</td>\n",
       "      <td>0.0</td>\n",
       "      <td>0.0</td>\n",
       "    </tr>\n",
       "    <tr>\n",
       "      <th>4</th>\n",
       "      <td>2002-05-01</td>\n",
       "      <td>Amazonas</td>\n",
       "      <td>-0.094980</td>\n",
       "      <td>0.125191</td>\n",
       "      <td>0.131261</td>\n",
       "      <td>-0.020305</td>\n",
       "      <td>0.0</td>\n",
       "      <td>0.0</td>\n",
       "      <td>0.0</td>\n",
       "      <td>0.0</td>\n",
       "      <td>0.0</td>\n",
       "      <td>0.0</td>\n",
       "      <td>0.0</td>\n",
       "      <td>0.0</td>\n",
       "      <td>0.0</td>\n",
       "    </tr>\n",
       "  </tbody>\n",
       "</table>\n",
       "</div>"
      ],
      "text/plain": [
       "        Date  variable        L0        L1        L2        L3   L4   L5   L6  \\\n",
       "0 2002-01-01  Amazonas  0.000000  0.000000  0.000000  0.000000  0.0  0.0  0.0   \n",
       "1 2002-02-01  Amazonas -0.020305  0.000000  0.000000  0.000000  0.0  0.0  0.0   \n",
       "2 2002-03-01  Amazonas  0.131261 -0.020305  0.000000  0.000000  0.0  0.0  0.0   \n",
       "3 2002-04-01  Amazonas  0.125191  0.131261 -0.020305  0.000000  0.0  0.0  0.0   \n",
       "4 2002-05-01  Amazonas -0.094980  0.125191  0.131261 -0.020305  0.0  0.0  0.0   \n",
       "\n",
       "    L7   L8   L9  L10  L11  L12  \n",
       "0  0.0  0.0  0.0  0.0  0.0  0.0  \n",
       "1  0.0  0.0  0.0  0.0  0.0  0.0  \n",
       "2  0.0  0.0  0.0  0.0  0.0  0.0  \n",
       "3  0.0  0.0  0.0  0.0  0.0  0.0  \n",
       "4  0.0  0.0  0.0  0.0  0.0  0.0  "
      ]
     },
     "execution_count": 585,
     "metadata": {},
     "output_type": "execute_result"
    }
   ],
   "source": [
    "train.head()"
   ]
  },
  {
   "cell_type": "markdown",
   "metadata": {},
   "source": [
    "# check this"
   ]
  },
  {
   "cell_type": "markdown",
   "metadata": {},
   "source": [
    "http://stackoverflow.com/questions/36992855/keras-how-should-i-prepare-input-data-for-rnn"
   ]
  },
  {
   "cell_type": "code",
   "execution_count": 586,
   "metadata": {
    "collapsed": false
   },
   "outputs": [],
   "source": [
    "FEAT = 1\n",
    "LAGS = 12\n",
    "traX = np.zeros((train.shape[0], LAGS, features))\n",
    "tesX = np.zeros((test.shape[0], LAGS, features))\n",
    "traY = np.zeros((train.shape[0]))\n",
    "tesY = np.zeros((test.shape[0]))\n",
    "\n",
    "for f in range(features):\n",
    "    traX[:,:,f] = train.ix[:, 3:]\n",
    "    tesX[:,:,f] = test.ix[:, 3:]\n",
    "\n",
    "traY = train['L0']\n",
    "tesY = test['L0']"
   ]
  },
  {
   "cell_type": "code",
   "execution_count": 587,
   "metadata": {
    "collapsed": false
   },
   "outputs": [
    {
     "data": {
      "text/plain": [
       "((2184, 12, 1), (2184,))"
      ]
     },
     "execution_count": 587,
     "metadata": {},
     "output_type": "execute_result"
    }
   ],
   "source": [
    "traX.shape, traY.shape"
   ]
  },
  {
   "cell_type": "code",
   "execution_count": 588,
   "metadata": {
    "collapsed": false,
    "scrolled": true
   },
   "outputs": [
    {
     "name": "stdout",
     "output_type": "stream",
     "text": [
      "Train on 1528 samples, validate on 656 samples\n",
      "Epoch 1/60\n",
      "10s - loss: 0.0053 - val_loss: 0.0041\n",
      "Epoch 2/60\n",
      "9s - loss: 0.0041 - val_loss: 0.0041\n",
      "Epoch 3/60\n",
      "10s - loss: 0.0041 - val_loss: 0.0050\n",
      "Epoch 4/60\n",
      "9s - loss: 0.0041 - val_loss: 0.0035\n",
      "Epoch 5/60\n",
      "11s - loss: 0.0040 - val_loss: 0.0037\n",
      "Epoch 6/60\n",
      "13s - loss: 0.0040 - val_loss: 0.0036\n",
      "Epoch 7/60\n",
      "10s - loss: 0.0039 - val_loss: 0.0037\n",
      "Epoch 8/60\n",
      "11s - loss: 0.0039 - val_loss: 0.0034\n",
      "Epoch 9/60\n",
      "10s - loss: 0.0039 - val_loss: 0.0034\n",
      "Epoch 10/60\n",
      "10s - loss: 0.0038 - val_loss: 0.0040\n",
      "Epoch 11/60\n",
      "9s - loss: 0.0038 - val_loss: 0.0037\n",
      "Epoch 12/60\n",
      "15s - loss: 0.0037 - val_loss: 0.0035\n",
      "Epoch 13/60\n",
      "10s - loss: 0.0037 - val_loss: 0.0039\n",
      "Epoch 14/60\n",
      "10s - loss: 0.0037 - val_loss: 0.0034\n",
      "Epoch 15/60\n",
      "10s - loss: 0.0037 - val_loss: 0.0033\n",
      "Epoch 16/60\n",
      "10s - loss: 0.0036 - val_loss: 0.0034\n",
      "Epoch 17/60\n",
      "11s - loss: 0.0036 - val_loss: 0.0035\n",
      "Epoch 18/60\n",
      "10s - loss: 0.0035 - val_loss: 0.0033\n",
      "Epoch 19/60\n",
      "11s - loss: 0.0035 - val_loss: 0.0040\n",
      "Epoch 20/60\n",
      "12s - loss: 0.0035 - val_loss: 0.0036\n",
      "Epoch 21/60\n",
      "9s - loss: 0.0034 - val_loss: 0.0034\n",
      "Epoch 22/60\n",
      "10s - loss: 0.0034 - val_loss: 0.0033\n",
      "Epoch 23/60\n",
      "12s - loss: 0.0034 - val_loss: 0.0037\n",
      "Epoch 24/60\n",
      "12s - loss: 0.0034 - val_loss: 0.0036\n",
      "Epoch 25/60\n",
      "11s - loss: 0.0033 - val_loss: 0.0036\n",
      "Epoch 26/60\n",
      "11s - loss: 0.0032 - val_loss: 0.0034\n",
      "Epoch 27/60\n",
      "10s - loss: 0.0032 - val_loss: 0.0039\n",
      "Epoch 28/60\n",
      "11s - loss: 0.0032 - val_loss: 0.0036\n",
      "Epoch 29/60\n",
      "10s - loss: 0.0031 - val_loss: 0.0038\n",
      "Epoch 30/60\n",
      "11s - loss: 0.0030 - val_loss: 0.0036\n",
      "Epoch 31/60\n",
      "10s - loss: 0.0030 - val_loss: 0.0038\n",
      "Epoch 32/60\n",
      "10s - loss: 0.0028 - val_loss: 0.0037\n",
      "Epoch 33/60\n",
      "9s - loss: 0.0027 - val_loss: 0.0047\n",
      "Epoch 34/60\n",
      "9s - loss: 0.0026 - val_loss: 0.0039\n",
      "Epoch 35/60\n",
      "11s - loss: 0.0026 - val_loss: 0.0048\n",
      "Epoch 36/60\n",
      "12s - loss: 0.0025 - val_loss: 0.0042\n",
      "Epoch 37/60\n",
      "10s - loss: 0.0023 - val_loss: 0.0041\n",
      "Epoch 38/60\n",
      "10s - loss: 0.0023 - val_loss: 0.0040\n",
      "Epoch 39/60\n",
      "9s - loss: 0.0022 - val_loss: 0.0043\n",
      "Epoch 40/60\n",
      "10s - loss: 0.0021 - val_loss: 0.0043\n",
      "Epoch 41/60\n",
      "11s - loss: 0.0020 - val_loss: 0.0044\n",
      "Epoch 42/60\n",
      "9s - loss: 0.0020 - val_loss: 0.0044\n",
      "Epoch 43/60\n",
      "9s - loss: 0.0018 - val_loss: 0.0040\n",
      "Epoch 44/60\n",
      "9s - loss: 0.0019 - val_loss: 0.0044\n",
      "Epoch 45/60\n",
      "9s - loss: 0.0017 - val_loss: 0.0047\n",
      "Epoch 46/60\n",
      "10s - loss: 0.0016 - val_loss: 0.0045\n",
      "Epoch 47/60\n",
      "11s - loss: 0.0015 - val_loss: 0.0046\n",
      "Epoch 48/60\n",
      "10s - loss: 0.0014 - val_loss: 0.0048\n",
      "Epoch 49/60\n",
      "10s - loss: 0.0013 - val_loss: 0.0046\n",
      "Epoch 50/60\n",
      "9s - loss: 0.0013 - val_loss: 0.0046\n",
      "Epoch 51/60\n",
      "10s - loss: 0.0012 - val_loss: 0.0047\n",
      "Epoch 52/60\n",
      "10s - loss: 0.0011 - val_loss: 0.0043\n",
      "Epoch 53/60\n",
      "9s - loss: 0.0010 - val_loss: 0.0050\n",
      "Epoch 54/60\n",
      "9s - loss: 9.6799e-04 - val_loss: 0.0045\n",
      "Epoch 55/60\n",
      "9s - loss: 9.1152e-04 - val_loss: 0.0048\n",
      "Epoch 56/60\n",
      "9s - loss: 8.3407e-04 - val_loss: 0.0047\n",
      "Epoch 57/60\n",
      "11s - loss: 7.4182e-04 - val_loss: 0.0070\n",
      "Epoch 58/60\n",
      "10s - loss: 7.4086e-04 - val_loss: 0.0043\n",
      "Epoch 59/60\n",
      "9s - loss: 7.0168e-04 - val_loss: 0.0046\n",
      "Epoch 60/60\n",
      "10s - loss: 6.6756e-04 - val_loss: 0.0044\n"
     ]
    }
   ],
   "source": [
    "# create and fit the LSTM network\n",
    "model = Sequential()\n",
    "model.add(LSTM(128, input_dim=traX.shape[2], return_sequences=True))\n",
    "#model.add(Dropout(0.2))\n",
    "model.add(LSTM(128, return_sequences=True))\n",
    "#model.add(Dropout(0.2))\n",
    "#model.add(LSTM(128,return_sequences=True))\n",
    "#model.add(Dropout(0.2))\n",
    "model.add(LSTM(12))\n",
    "#model.add(Flatten())\n",
    "model.add(Dense(1, W_regularizer=l2(1e-6), activity_regularizer=activity_l2(1e-6)))\n",
    "model.compile(loss='mean_squared_error', optimizer='rmsprop')\n",
    "\n",
    "hist = model.fit(traX, traY, nb_epoch=60, batch_size=1, verbose=2, validation_split=0.3)"
   ]
  },
  {
   "cell_type": "code",
   "execution_count": 589,
   "metadata": {
    "collapsed": false,
    "scrolled": true
   },
   "outputs": [
    {
     "data": {
      "text/plain": [
       "<matplotlib.legend.Legend at 0x7f1c34077d10>"
      ]
     },
     "execution_count": 589,
     "metadata": {},
     "output_type": "execute_result"
    },
    {
     "data": {
      "image/png": "[encoded data removed]",
      "text/plain": [
       "<matplotlib.figure.Figure at 0x7f1c34111550>"
      ]
     },
     "metadata": {},
     "output_type": "display_data"
    }
   ],
   "source": [
    "plt.plot(hist.history['loss'])\n",
    "plt.plot(hist.history['val_loss'])\n",
    "plt.title('model loss')\n",
    "plt.ylabel('loss')\n",
    "plt.xlabel('epoch')\n",
    "plt.legend(['train', 'test'], loc='upper left')"
   ]
  },
  {
   "cell_type": "code",
   "execution_count": 590,
   "metadata": {
    "collapsed": false
   },
   "outputs": [],
   "source": [
    "# generate predictions for training\n",
    "trainPredict = model.predict(traX)\n",
    "testPredict = model.predict(tesX)"
   ]
  },
  {
   "cell_type": "code",
   "execution_count": 591,
   "metadata": {
    "collapsed": false
   },
   "outputs": [
    {
     "data": {
      "text/plain": [
       "(2184, 1)"
      ]
     },
     "execution_count": 591,
     "metadata": {},
     "output_type": "execute_result"
    }
   ],
   "source": [
    "trainPredict.shape"
   ]
  },
  {
   "cell_type": "code",
   "execution_count": 592,
   "metadata": {
    "collapsed": false
   },
   "outputs": [
    {
     "name": "stderr",
     "output_type": "stream",
     "text": [
      "/home/sandor/anaconda2/lib/python2.7/site-packages/ipykernel/__main__.py:5: SettingWithCopyWarning: \n",
      "A value is trying to be set on a copy of a slice from a DataFrame.\n",
      "Try using .loc[row_indexer,col_indexer] = value instead\n",
      "\n",
      "See the caveats in the documentation: http://pandas.pydata.org/pandas-docs/stable/indexing.html#indexing-view-versus-copy\n",
      "/home/sandor/anaconda2/lib/python2.7/site-packages/ipykernel/__main__.py:6: SettingWithCopyWarning: \n",
      "A value is trying to be set on a copy of a slice from a DataFrame.\n",
      "Try using .loc[row_indexer,col_indexer] = value instead\n",
      "\n",
      "See the caveats in the documentation: http://pandas.pydata.org/pandas-docs/stable/indexing.html#indexing-view-versus-copy\n"
     ]
    }
   ],
   "source": [
    "final = data[['Date', 'variable']]\n",
    "final.ix[:, 'true_val'] = true_val\n",
    "final.ix[final['Date']<CUTOFF, 'train_pred'] = trainPredict\n",
    "final.ix[final['Date']>=CUTOFF, 'test_pred'] = testPredict\n",
    "final['train'] = final['true_val'] * (1+final['train_pred'])\n",
    "final['test'] = final['true_val'] * (1+final['test_pred'])"
   ]
  },
  {
   "cell_type": "code",
   "execution_count": 593,
   "metadata": {
    "collapsed": false
   },
   "outputs": [
    {
     "data": {
      "text/html": [
       "<div>\n",
       "<table border=\"1\" class=\"dataframe\">\n",
       "  <thead>\n",
       "    <tr style=\"text-align: right;\">\n",
       "      <th></th>\n",
       "      <th>Date</th>\n",
       "      <th>variable</th>\n",
       "      <th>true_val</th>\n",
       "      <th>train_pred</th>\n",
       "      <th>test_pred</th>\n",
       "      <th>train</th>\n",
       "      <th>test</th>\n",
       "    </tr>\n",
       "  </thead>\n",
       "  <tbody>\n",
       "    <tr>\n",
       "      <th>1408</th>\n",
       "      <td>2002-01-01</td>\n",
       "      <td>Sao Paulo</td>\n",
       "      <td>68.6</td>\n",
       "      <td>-0.011952</td>\n",
       "      <td>NaN</td>\n",
       "      <td>67.780086</td>\n",
       "      <td>NaN</td>\n",
       "    </tr>\n",
       "    <tr>\n",
       "      <th>1409</th>\n",
       "      <td>2002-02-01</td>\n",
       "      <td>Sao Paulo</td>\n",
       "      <td>68.0</td>\n",
       "      <td>-0.011952</td>\n",
       "      <td>NaN</td>\n",
       "      <td>67.187257</td>\n",
       "      <td>NaN</td>\n",
       "    </tr>\n",
       "    <tr>\n",
       "      <th>1410</th>\n",
       "      <td>2002-03-01</td>\n",
       "      <td>Sao Paulo</td>\n",
       "      <td>74.8</td>\n",
       "      <td>0.014879</td>\n",
       "      <td>NaN</td>\n",
       "      <td>75.912959</td>\n",
       "      <td>NaN</td>\n",
       "    </tr>\n",
       "    <tr>\n",
       "      <th>1411</th>\n",
       "      <td>2002-04-01</td>\n",
       "      <td>Sao Paulo</td>\n",
       "      <td>76.8</td>\n",
       "      <td>0.003538</td>\n",
       "      <td>NaN</td>\n",
       "      <td>77.071706</td>\n",
       "      <td>NaN</td>\n",
       "    </tr>\n",
       "    <tr>\n",
       "      <th>1412</th>\n",
       "      <td>2002-05-01</td>\n",
       "      <td>Sao Paulo</td>\n",
       "      <td>79.6</td>\n",
       "      <td>0.009360</td>\n",
       "      <td>NaN</td>\n",
       "      <td>80.345086</td>\n",
       "      <td>NaN</td>\n",
       "    </tr>\n",
       "  </tbody>\n",
       "</table>\n",
       "</div>"
      ],
      "text/plain": [
       "           Date   variable  true_val  train_pred  test_pred      train  test\n",
       "1408 2002-01-01  Sao Paulo      68.6   -0.011952        NaN  67.780086   NaN\n",
       "1409 2002-02-01  Sao Paulo      68.0   -0.011952        NaN  67.187257   NaN\n",
       "1410 2002-03-01  Sao Paulo      74.8    0.014879        NaN  75.912959   NaN\n",
       "1411 2002-04-01  Sao Paulo      76.8    0.003538        NaN  77.071706   NaN\n",
       "1412 2002-05-01  Sao Paulo      79.6    0.009360        NaN  80.345086   NaN"
      ]
     },
     "execution_count": 593,
     "metadata": {},
     "output_type": "execute_result"
    }
   ],
   "source": [
    "final[final['variable']=='Sao Paulo'].head()"
   ]
  },
  {
   "cell_type": "code",
   "execution_count": 594,
   "metadata": {
    "collapsed": false
   },
   "outputs": [
    {
     "data": {
      "text/plain": [
       "array(['Amazonas', 'Para', 'Ceara', 'Pernambuco', 'Bahia', 'Minas Gerais',\n",
       "       'Espirito Santo', 'Rio de Janeiro', 'Sao Paulo', 'Parana',\n",
       "       'Santa Catarina', 'Rio Grande do Sul', 'Mato Grosso', 'Goias'], dtype=object)"
      ]
     },
     "execution_count": 594,
     "metadata": {},
     "output_type": "execute_result"
    }
   ],
   "source": [
    "data.variable.unique()"
   ]
  },
  {
   "cell_type": "code",
   "execution_count": 604,
   "metadata": {
    "collapsed": false
   },
   "outputs": [
    {
     "name": "stdout",
     "output_type": "stream",
     "text": [
      "0.568816733661 0.0687406687187\n"
     ]
    },
    {
     "data": {
      "text/plain": [
       "[<matplotlib.lines.Line2D at 0x7f1c64e91950>]"
      ]
     },
     "execution_count": 604,
     "metadata": {},
     "output_type": "execute_result"
    },
    {
     "data": {
      "image/png": "[encoded data removed]",
      "text/plain": [
       "<matplotlib.figure.Figure at 0x7f1c55177f10>"
      ]
     },
     "metadata": {},
     "output_type": "display_data"
    }
   ],
   "source": [
    "# plot baseline and predictions\n",
    "estado = 'Bahia'\n",
    "f1 = (final['variable']==estado) & (final['Date']<CUTOFF)\n",
    "f2 = (final['variable']==estado) & (final['Date']>=CUTOFF)\n",
    "\n",
    "print r2_score(final.ix[f1,'true_val'],final.ix[f1,'train']), r2_score(final.ix[f2,'true_val'],final.ix[f2,'test'])\n",
    "\n",
    "plt.figure(figsize=(20,10))\n",
    "plt.plot(final.ix[final['variable']==estado, 'true_val'])\n",
    "plt.plot(final.ix[final['variable']==estado, 'train'])\n",
    "plt.plot(final.ix[final['variable']==estado, 'test'])\n"
   ]
  },
  {
   "cell_type": "code",
   "execution_count": null,
   "metadata": {
    "collapsed": true
   },
   "outputs": [],
   "source": []
  },
  {
   "cell_type": "code",
   "execution_count": null,
   "metadata": {
    "collapsed": true
   },
   "outputs": [],
   "source": []
  },
  {
   "cell_type": "code",
   "execution_count": null,
   "metadata": {
    "collapsed": true
   },
   "outputs": [],
   "source": []
  },
  {
   "cell_type": "code",
   "execution_count": null,
   "metadata": {
    "collapsed": true
   },
   "outputs": [],
   "source": []
  },
  {
   "cell_type": "code",
   "execution_count": null,
   "metadata": {
    "collapsed": true
   },
   "outputs": [],
   "source": []
  },
  {
   "cell_type": "code",
   "execution_count": null,
   "metadata": {
    "collapsed": true
   },
   "outputs": [],
   "source": []
  },
  {
   "cell_type": "code",
   "execution_count": null,
   "metadata": {
    "collapsed": true
   },
   "outputs": [],
   "source": []
  }
 ],
 "metadata": {
  "kernelspec": {
   "display_name": "Python [Root]",
   "language": "python",
   "name": "Python [Root]"
  },
  "language_info": {
   "codemirror_mode": {
    "name": "ipython",
    "version": 2
   },
   "file_extension": ".py",
   "mimetype": "text/x-python",
   "name": "python",
   "nbconvert_exporter": "python",
   "pygments_lexer": "ipython2",
   "version": "2.7.12"
  }
 },
 "nbformat": 4,
 "nbformat_minor": 1
}
