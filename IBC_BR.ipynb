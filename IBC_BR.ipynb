{
 "cells": [
  {
   "cell_type": "markdown",
   "metadata": {},
   "source": [
    "http://machinelearningmastery.com/time-series-prediction-lstm-recurrent-neural-networks-python-keras/"
   ]
  },
  {
   "cell_type": "markdown",
   "metadata": {},
   "source": [
    "http://www.ipeadata.gov.br/"
   ]
  },
  {
   "cell_type": "markdown",
   "metadata": {},
   "source": [
    "https://dadosdadosdados.wordpress.com/2015/09/25/trabalhando-com-series-temporais-no-r-parte-i-2/"
   ]
  },
  {
   "cell_type": "code",
   "execution_count": 125,
   "metadata": {
    "collapsed": true
   },
   "outputs": [],
   "source": [
    "%matplotlib inline\n",
    "import pandas\n",
    "import matplotlib.pyplot as plt"
   ]
  },
  {
   "cell_type": "code",
   "execution_count": 126,
   "metadata": {
    "collapsed": false
   },
   "outputs": [
    {
     "data": {
      "text/plain": [
       "<matplotlib.axes._subplots.AxesSubplot at 0x7fcb8fc36810>"
      ]
     },
     "execution_count": 126,
     "metadata": {},
     "output_type": "execute_result"
    },
    {
     "data": {
      "image/png": "[encoded data removed]",
      "text/plain": [
       "<matplotlib.figure.Figure at 0x7fcb844ac590>"
      ]
     },
     "metadata": {},
     "output_type": "display_data"
    }
   ],
   "source": [
    "dataset = pandas.read_csv('ibc_br_20160918.csv', usecols=[0,1], engine='python')\n",
    "dataset.columns = ['DATA','IBC_BR']\n",
    "dataset['IBC_BR'].plot()"
   ]
  },
  {
   "cell_type": "code",
   "execution_count": 127,
   "metadata": {
    "collapsed": false
   },
   "outputs": [],
   "source": [
    "import numpy\n",
    "import matplotlib.pyplot as plt\n",
    "import pandas\n",
    "import math\n",
    "from keras.models import Sequential\n",
    "from keras.layers import Dense, Dropout\n",
    "from keras.layers import LSTM\n",
    "from sklearn.preprocessing import MinMaxScaler\n",
    "\n",
    "from sklearn.metrics import r2_score"
   ]
  },
  {
   "cell_type": "code",
   "execution_count": 128,
   "metadata": {
    "collapsed": true
   },
   "outputs": [],
   "source": [
    "# fix random seed for reproducibility\n",
    "numpy.random.seed(42)"
   ]
  },
  {
   "cell_type": "code",
   "execution_count": 129,
   "metadata": {
    "collapsed": true
   },
   "outputs": [],
   "source": [
    "# load the dataset\n",
    "#dataframe = pandas.read_csv('international-airline-passengers.csv', usecols=[1], engine='python', skipfooter=3)\n",
    "dataframe = pandas.read_csv('ibc_br_20160918.csv', usecols=[0,1], engine='python')\n",
    "dataframe.columns = ['DATA','IBC_BR']\n",
    "dataset = dataframe['IBC_BR'].values.reshape(-1, 1)\n",
    "dataset = dataset.astype('float32')"
   ]
  },
  {
   "cell_type": "code",
   "execution_count": 130,
   "metadata": {
    "collapsed": false
   },
   "outputs": [],
   "source": [
    "# normalize the dataset\n",
    "scaler = MinMaxScaler(feature_range=(0, 1))\n",
    "dataset = scaler.fit_transform(dataset)"
   ]
  },
  {
   "cell_type": "code",
   "execution_count": 131,
   "metadata": {
    "collapsed": false
   },
   "outputs": [
    {
     "name": "stdout",
     "output_type": "stream",
     "text": [
      "(107, 53)\n"
     ]
    }
   ],
   "source": [
    "# split into train and test sets\n",
    "train_size = int(len(dataset) * 0.67)\n",
    "test_size = len(dataset) - train_size\n",
    "train, test = dataset[0:train_size,:], dataset[train_size:len(dataset),:]\n",
    "print(len(train), len(test))"
   ]
  },
  {
   "cell_type": "code",
   "execution_count": 132,
   "metadata": {
    "collapsed": true
   },
   "outputs": [],
   "source": [
    "# convert an array of values into a dataset matrix\n",
    "def create_dataset(dataset, look_back=1):\n",
    "    dataX, dataY = [], []\n",
    "    for i in range(len(dataset)-look_back-1):\n",
    "        a = dataset[i:(i+look_back), 0]\n",
    "        dataX.append(a)\n",
    "        dataY.append(dataset[i + look_back, 0])\n",
    "    return numpy.array(dataX), numpy.array(dataY)"
   ]
  },
  {
   "cell_type": "code",
   "execution_count": 148,
   "metadata": {
    "collapsed": false
   },
   "outputs": [],
   "source": [
    "look_back = 3\n",
    "trainX, trainY = create_dataset(train, look_back)\n",
    "testX, testY = create_dataset(test, look_back)"
   ]
  },
  {
   "cell_type": "code",
   "execution_count": 149,
   "metadata": {
    "collapsed": false
   },
   "outputs": [],
   "source": [
    "#trainY"
   ]
  },
  {
   "cell_type": "code",
   "execution_count": 150,
   "metadata": {
    "collapsed": true
   },
   "outputs": [],
   "source": [
    "# reshape input to be [samples, time steps, features]\n",
    "trainX = numpy.reshape(trainX, (trainX.shape[0], 1, trainX.shape[1]))\n",
    "testX = numpy.reshape(testX, (testX.shape[0], 1, testX.shape[1]))"
   ]
  },
  {
   "cell_type": "code",
   "execution_count": 158,
   "metadata": {
    "collapsed": false,
    "scrolled": true
   },
   "outputs": [
    {
     "name": "stdout",
     "output_type": "stream",
     "text": [
      "Epoch 1/100\n",
      "0s - loss: 0.2615\n",
      "Epoch 2/100\n",
      "0s - loss: 0.1342\n",
      "Epoch 3/100\n",
      "0s - loss: 0.0779\n",
      "Epoch 4/100\n",
      "0s - loss: 0.0523\n",
      "Epoch 5/100\n",
      "0s - loss: 0.0378\n",
      "Epoch 6/100\n",
      "0s - loss: 0.0354\n",
      "Epoch 7/100\n",
      "0s - loss: 0.0345\n",
      "Epoch 8/100\n",
      "0s - loss: 0.0329\n",
      "Epoch 9/100\n",
      "0s - loss: 0.0284\n",
      "Epoch 10/100\n",
      "0s - loss: 0.0315\n",
      "Epoch 11/100\n",
      "0s - loss: 0.0312\n",
      "Epoch 12/100\n",
      "0s - loss: 0.0233\n",
      "Epoch 13/100\n",
      "0s - loss: 0.0226\n",
      "Epoch 14/100\n",
      "0s - loss: 0.0154\n",
      "Epoch 15/100\n",
      "0s - loss: 0.0192\n",
      "Epoch 16/100\n",
      "0s - loss: 0.0162\n",
      "Epoch 17/100\n",
      "0s - loss: 0.0208\n",
      "Epoch 18/100\n",
      "0s - loss: 0.0215\n",
      "Epoch 19/100\n",
      "0s - loss: 0.0179\n",
      "Epoch 20/100\n",
      "0s - loss: 0.0171\n",
      "Epoch 21/100\n",
      "0s - loss: 0.0123\n",
      "Epoch 22/100\n",
      "0s - loss: 0.0130\n",
      "Epoch 23/100\n",
      "0s - loss: 0.0161\n",
      "Epoch 24/100\n",
      "0s - loss: 0.0145\n",
      "Epoch 25/100\n",
      "0s - loss: 0.0157\n",
      "Epoch 26/100\n",
      "0s - loss: 0.0143\n",
      "Epoch 27/100\n",
      "0s - loss: 0.0104\n",
      "Epoch 28/100\n",
      "0s - loss: 0.0130\n",
      "Epoch 29/100\n",
      "0s - loss: 0.0145\n",
      "Epoch 30/100\n",
      "0s - loss: 0.0128\n",
      "Epoch 31/100\n",
      "0s - loss: 0.0148\n",
      "Epoch 32/100\n",
      "0s - loss: 0.0137\n",
      "Epoch 33/100\n",
      "0s - loss: 0.0121\n",
      "Epoch 34/100\n",
      "0s - loss: 0.0114\n",
      "Epoch 35/100\n",
      "0s - loss: 0.0131\n",
      "Epoch 36/100\n",
      "0s - loss: 0.0113\n",
      "Epoch 37/100\n",
      "0s - loss: 0.0168\n",
      "Epoch 38/100\n",
      "0s - loss: 0.0127\n",
      "Epoch 39/100\n",
      "0s - loss: 0.0148\n",
      "Epoch 40/100\n",
      "0s - loss: 0.0124\n",
      "Epoch 41/100\n",
      "0s - loss: 0.0125\n",
      "Epoch 42/100\n",
      "0s - loss: 0.0116\n",
      "Epoch 43/100\n",
      "0s - loss: 0.0125\n",
      "Epoch 44/100\n",
      "0s - loss: 0.0110\n",
      "Epoch 45/100\n",
      "0s - loss: 0.0127\n",
      "Epoch 46/100\n",
      "0s - loss: 0.0142\n",
      "Epoch 47/100\n",
      "0s - loss: 0.0102\n",
      "Epoch 48/100\n",
      "0s - loss: 0.0115\n",
      "Epoch 49/100\n",
      "0s - loss: 0.0141\n",
      "Epoch 50/100\n",
      "0s - loss: 0.0089\n",
      "Epoch 51/100\n",
      "0s - loss: 0.0130\n",
      "Epoch 52/100\n",
      "0s - loss: 0.0122\n",
      "Epoch 53/100\n",
      "0s - loss: 0.0100\n",
      "Epoch 54/100\n",
      "0s - loss: 0.0088\n",
      "Epoch 55/100\n",
      "0s - loss: 0.0095\n",
      "Epoch 56/100\n",
      "0s - loss: 0.0102\n",
      "Epoch 57/100\n",
      "0s - loss: 0.0096\n",
      "Epoch 58/100\n",
      "0s - loss: 0.0102\n",
      "Epoch 59/100\n",
      "0s - loss: 0.0089\n",
      "Epoch 60/100\n",
      "0s - loss: 0.0113\n",
      "Epoch 61/100\n",
      "0s - loss: 0.0100\n",
      "Epoch 62/100\n",
      "0s - loss: 0.0114\n",
      "Epoch 63/100\n",
      "0s - loss: 0.0096\n",
      "Epoch 64/100\n",
      "0s - loss: 0.0091\n",
      "Epoch 65/100\n",
      "0s - loss: 0.0092\n",
      "Epoch 66/100\n",
      "0s - loss: 0.0126\n",
      "Epoch 67/100\n",
      "0s - loss: 0.0117\n",
      "Epoch 68/100\n",
      "0s - loss: 0.0102\n",
      "Epoch 69/100\n",
      "0s - loss: 0.0083\n",
      "Epoch 70/100\n",
      "0s - loss: 0.0098\n",
      "Epoch 71/100\n",
      "0s - loss: 0.0094\n",
      "Epoch 72/100\n",
      "0s - loss: 0.0089\n",
      "Epoch 73/100\n",
      "0s - loss: 0.0097\n",
      "Epoch 74/100\n",
      "0s - loss: 0.0084\n",
      "Epoch 75/100\n",
      "0s - loss: 0.0099\n",
      "Epoch 76/100\n",
      "0s - loss: 0.0077\n",
      "Epoch 77/100\n",
      "0s - loss: 0.0087\n",
      "Epoch 78/100\n",
      "0s - loss: 0.0095\n",
      "Epoch 79/100\n",
      "0s - loss: 0.0100\n",
      "Epoch 80/100\n",
      "0s - loss: 0.0104\n",
      "Epoch 81/100\n",
      "0s - loss: 0.0112\n",
      "Epoch 82/100\n",
      "0s - loss: 0.0083\n",
      "Epoch 83/100\n",
      "0s - loss: 0.0109\n",
      "Epoch 84/100\n",
      "0s - loss: 0.0088\n",
      "Epoch 85/100\n",
      "0s - loss: 0.0087\n",
      "Epoch 86/100\n",
      "0s - loss: 0.0110\n",
      "Epoch 87/100\n",
      "0s - loss: 0.0089\n",
      "Epoch 88/100\n",
      "0s - loss: 0.0103\n",
      "Epoch 89/100\n",
      "0s - loss: 0.0084\n",
      "Epoch 90/100\n",
      "0s - loss: 0.0093\n",
      "Epoch 91/100\n",
      "0s - loss: 0.0094\n",
      "Epoch 92/100\n",
      "0s - loss: 0.0089\n",
      "Epoch 93/100\n",
      "0s - loss: 0.0089\n",
      "Epoch 94/100\n",
      "0s - loss: 0.0109\n",
      "Epoch 95/100\n",
      "0s - loss: 0.0099\n",
      "Epoch 96/100\n",
      "0s - loss: 0.0100\n",
      "Epoch 97/100\n",
      "0s - loss: 0.0103\n",
      "Epoch 98/100\n",
      "0s - loss: 0.0086\n",
      "Epoch 99/100\n",
      "0s - loss: 0.0102\n",
      "Epoch 100/100\n",
      "0s - loss: 0.0084\n"
     ]
    }
   ],
   "source": [
    "# create and fit the LSTM network\n",
    "model = Sequential()\n",
    "model.add(LSTM(4, input_dim=look_back))\n",
    "model.add(Dropout(0.2))\n",
    "model.add(Dense(1))\n",
    "model.compile(loss='mean_squared_error', optimizer='adam')\n",
    "hist = model.fit(trainX, trainY, nb_epoch=100, batch_size=1, verbose=2)"
   ]
  },
  {
   "cell_type": "code",
   "execution_count": 159,
   "metadata": {
    "collapsed": false
   },
   "outputs": [
    {
     "ename": "KeyError",
     "evalue": "'val_loss'",
     "output_type": "error",
     "traceback": [
      "\u001b[1;31m---------------------------------------------------------------------------\u001b[0m",
      "\u001b[1;31mKeyError\u001b[0m                                  Traceback (most recent call last)",
      "\u001b[1;32m<ipython-input-159-5b11db37f7a6>\u001b[0m in \u001b[0;36m<module>\u001b[1;34m()\u001b[0m\n\u001b[0;32m      1\u001b[0m \u001b[0mplt\u001b[0m\u001b[1;33m.\u001b[0m\u001b[0mplot\u001b[0m\u001b[1;33m(\u001b[0m\u001b[0mhist\u001b[0m\u001b[1;33m.\u001b[0m\u001b[0mhistory\u001b[0m\u001b[1;33m[\u001b[0m\u001b[1;34m'loss'\u001b[0m\u001b[1;33m]\u001b[0m\u001b[1;33m)\u001b[0m\u001b[1;33m\u001b[0m\u001b[0m\n\u001b[1;32m----> 2\u001b[1;33m \u001b[0mplt\u001b[0m\u001b[1;33m.\u001b[0m\u001b[0mplot\u001b[0m\u001b[1;33m(\u001b[0m\u001b[0mhist\u001b[0m\u001b[1;33m.\u001b[0m\u001b[0mhistory\u001b[0m\u001b[1;33m[\u001b[0m\u001b[1;34m'val_loss'\u001b[0m\u001b[1;33m]\u001b[0m\u001b[1;33m)\u001b[0m\u001b[1;33m\u001b[0m\u001b[0m\n\u001b[0m\u001b[0;32m      3\u001b[0m \u001b[0mplt\u001b[0m\u001b[1;33m.\u001b[0m\u001b[0mtitle\u001b[0m\u001b[1;33m(\u001b[0m\u001b[1;34m'model loss'\u001b[0m\u001b[1;33m)\u001b[0m\u001b[1;33m\u001b[0m\u001b[0m\n\u001b[0;32m      4\u001b[0m \u001b[0mplt\u001b[0m\u001b[1;33m.\u001b[0m\u001b[0mylabel\u001b[0m\u001b[1;33m(\u001b[0m\u001b[1;34m'loss'\u001b[0m\u001b[1;33m)\u001b[0m\u001b[1;33m\u001b[0m\u001b[0m\n\u001b[0;32m      5\u001b[0m \u001b[0mplt\u001b[0m\u001b[1;33m.\u001b[0m\u001b[0mxlabel\u001b[0m\u001b[1;33m(\u001b[0m\u001b[1;34m'epoch'\u001b[0m\u001b[1;33m)\u001b[0m\u001b[1;33m\u001b[0m\u001b[0m\n",
      "\u001b[1;31mKeyError\u001b[0m: 'val_loss'"
     ]
    },
    {
     "data": {
      "image/png": "[encoded data removed]",
      "text/plain": [
       "<matplotlib.figure.Figure at 0x7fcb8bb1acd0>"
      ]
     },
     "metadata": {},
     "output_type": "display_data"
    }
   ],
   "source": [
    "plt.plot(hist.history['loss'])\n",
    "plt.plot(hist.history['val_loss'])\n",
    "plt.title('model loss')\n",
    "plt.ylabel('loss')\n",
    "plt.xlabel('epoch')\n",
    "plt.legend(['train', 'test'], loc='upper left')"
   ]
  },
  {
   "cell_type": "code",
   "execution_count": 160,
   "metadata": {
    "collapsed": false
   },
   "outputs": [
    {
     "name": "stdout",
     "output_type": "stream",
     "text": [
      "Train Score: 100.50 RMSE\n",
      "Test Score: 101.13 RMSE\n"
     ]
    }
   ],
   "source": [
    "# Estimate model performance\n",
    "trainScore = model.evaluate(trainX, trainY, verbose=0)\n",
    "trainScore = math.sqrt(trainScore)\n",
    "trainScore = scaler.inverse_transform(numpy.array([[trainScore]]))\n",
    "print('Train Score: %.2f RMSE' % (trainScore))\n",
    "testScore = model.evaluate(testX, testY, verbose=0)\n",
    "testScore = math.sqrt(testScore)\n",
    "testScore = scaler.inverse_transform(numpy.array([[testScore]]))\n",
    "print('Test Score: %.2f RMSE' % (testScore))"
   ]
  },
  {
   "cell_type": "code",
   "execution_count": 161,
   "metadata": {
    "collapsed": false
   },
   "outputs": [
    {
     "name": "stdout",
     "output_type": "stream",
     "text": [
      "0.888758373432 0.144834848895\n"
     ]
    }
   ],
   "source": [
    "print r2_score(trainY,model.predict(trainX)), r2_score(testY,model.predict(testX))"
   ]
  },
  {
   "cell_type": "code",
   "execution_count": 162,
   "metadata": {
    "collapsed": true
   },
   "outputs": [],
   "source": [
    "# generate predictions for training\n",
    "trainPredict = model.predict(trainX)\n",
    "testPredict = model.predict(testX)\n",
    " \n",
    "# shift train predictions for plotting\n",
    "trainPredictPlot = numpy.empty_like(dataset)\n",
    "trainPredictPlot[:, :] = numpy.nan\n",
    "trainPredictPlot[look_back:len(trainPredict)+look_back, :] = trainPredict\n",
    " \n",
    "# shift test predictions for plotting\n",
    "testPredictPlot = numpy.empty_like(dataset)\n",
    "testPredictPlot[:, :] = numpy.nan\n",
    "testPredictPlot[len(trainPredict)+(look_back*2)+1:len(dataset)-1, :] = testPredict"
   ]
  },
  {
   "cell_type": "code",
   "execution_count": 163,
   "metadata": {
    "collapsed": false
   },
   "outputs": [
    {
     "data": {
      "text/plain": [
       "[<matplotlib.lines.Line2D at 0x7fcb871ac310>]"
      ]
     },
     "execution_count": 163,
     "metadata": {},
     "output_type": "execute_result"
    },
    {
     "data": {
      "image/png": "[encoded data removed]",
      "text/plain": [
       "<matplotlib.figure.Figure at 0x7fcb7fcb3410>"
      ]
     },
     "metadata": {},
     "output_type": "display_data"
    }
   ],
   "source": [
    "# plot baseline and predictions\n",
    "plt.figure(figsize=(20,10))\n",
    "plt.plot(dataset)\n",
    "plt.plot(trainPredictPlot)\n",
    "plt.plot(testPredictPlot)"
   ]
  },
  {
   "cell_type": "code",
   "execution_count": null,
   "metadata": {
    "collapsed": true
   },
   "outputs": [],
   "source": []
  },
  {
   "cell_type": "code",
   "execution_count": null,
   "metadata": {
    "collapsed": true
   },
   "outputs": [],
   "source": []
  },
  {
   "cell_type": "code",
   "execution_count": null,
   "metadata": {
    "collapsed": true
   },
   "outputs": [],
   "source": []
  },
  {
   "cell_type": "code",
   "execution_count": null,
   "metadata": {
    "collapsed": true
   },
   "outputs": [],
   "source": []
  },
  {
   "cell_type": "code",
   "execution_count": null,
   "metadata": {
    "collapsed": true
   },
   "outputs": [],
   "source": []
  },
  {
   "cell_type": "code",
   "execution_count": null,
   "metadata": {
    "collapsed": true
   },
   "outputs": [],
   "source": []
  },
  {
   "cell_type": "code",
   "execution_count": null,
   "metadata": {
    "collapsed": true
   },
   "outputs": [],
   "source": []
  },
  {
   "cell_type": "code",
   "execution_count": null,
   "metadata": {
    "collapsed": true
   },
   "outputs": [],
   "source": []
  },
  {
   "cell_type": "code",
   "execution_count": null,
   "metadata": {
    "collapsed": true
   },
   "outputs": [],
   "source": []
  },
  {
   "cell_type": "code",
   "execution_count": null,
   "metadata": {
    "collapsed": true
   },
   "outputs": [],
   "source": []
  },
  {
   "cell_type": "code",
   "execution_count": null,
   "metadata": {
    "collapsed": true
   },
   "outputs": [],
   "source": []
  }
 ],
 "metadata": {
  "kernelspec": {
   "display_name": "Python [Root]",
   "language": "python",
   "name": "Python [Root]"
  },
  "language_info": {
   "codemirror_mode": {
    "name": "ipython",
    "version": 2
   },
   "file_extension": ".py",
   "mimetype": "text/x-python",
   "name": "python",
   "nbconvert_exporter": "python",
   "pygments_lexer": "ipython2",
   "version": "2.7.12"
  }
 },
 "nbformat": 4,
 "nbformat_minor": 1
}
