{
 "cells": [
  {
   "cell_type": "markdown",
   "metadata": {},
   "source": [
    "http://www.ipeadata.gov.br/"
   ]
  },
  {
   "cell_type": "markdown",
   "metadata": {},
   "source": [
    "https://dadosdadosdados.wordpress.com/2015/09/25/trabalhando-com-series-temporais-no-r-parte-i-2/"
   ]
  },
  {
   "cell_type": "code",
   "execution_count": 181,
   "metadata": {
    "collapsed": true
   },
   "outputs": [],
   "source": [
    "%matplotlib inline\n",
    "import pandas as pd\n",
    "import numpy as np\n",
    "import matplotlib.pyplot as plt"
   ]
  },
  {
   "cell_type": "code",
   "execution_count": 182,
   "metadata": {
    "collapsed": false
   },
   "outputs": [
    {
     "data": {
      "text/plain": [
       "<matplotlib.axes._subplots.AxesSubplot at 0x7f049b580950>"
      ]
     },
     "execution_count": 182,
     "metadata": {},
     "output_type": "execute_result"
    },
    {
     "data": {
      "image/png": "[encoded data removed]",
      "text/plain": [
       "<matplotlib.figure.Figure at 0x7f049b580bd0>"
      ]
     },
     "metadata": {},
     "output_type": "display_data"
    }
   ],
   "source": [
    "dataset = pd.read_csv('ibc_br_20160918.csv', usecols=[0,1], engine='python')\n",
    "dataset.columns = ['DATA','IBC_BR']\n",
    "dataset['IBC_BR'].plot()"
   ]
  },
  {
   "cell_type": "code",
   "execution_count": 229,
   "metadata": {
    "collapsed": false
   },
   "outputs": [],
   "source": [
    "import numpy\n",
    "import matplotlib.pyplot as plt\n",
    "import pandas\n",
    "import math\n",
    "from keras.models import Sequential\n",
    "from keras.layers import Dense, Dropout, Flatten\n",
    "from keras.layers import LSTM\n",
    "from sklearn.preprocessing import MinMaxScaler\n",
    "from keras.regularizers import l2, activity_l2\n",
    "\n",
    "from sklearn.metrics import r2_score"
   ]
  },
  {
   "cell_type": "code",
   "execution_count": 184,
   "metadata": {
    "collapsed": true
   },
   "outputs": [],
   "source": [
    "# fix random seed for reproducibility\n",
    "numpy.random.seed(42)"
   ]
  },
  {
   "cell_type": "code",
   "execution_count": 185,
   "metadata": {
    "collapsed": true
   },
   "outputs": [],
   "source": [
    "# load the dataset\n",
    "#dataframe = pandas.read_csv('international-airline-passengers.csv', usecols=[1], engine='python', skipfooter=3)\n",
    "dataframe = pandas.read_csv('ibc_br_20160918.csv', usecols=[0,1], engine='python')\n",
    "dataframe.columns = ['DATA','IBC_BR']\n",
    "#dataset = dataframe['IBC_BR'].values.reshape(-1, 1)\n",
    "#dataset = dataset.astype('float32')"
   ]
  },
  {
   "cell_type": "markdown",
   "metadata": {},
   "source": [
    "### Add trend and seasonal factor"
   ]
  },
  {
   "cell_type": "code",
   "execution_count": 186,
   "metadata": {
    "collapsed": false
   },
   "outputs": [],
   "source": [
    "seasonal = pd.get_dummies(dataframe['DATA'].apply(lambda x: int(str(x).split('.')[-1])))\n",
    "seasonal.columns = ['D'+str(x) for x in range(1,12)]"
   ]
  },
  {
   "cell_type": "code",
   "execution_count": 187,
   "metadata": {
    "collapsed": false
   },
   "outputs": [],
   "source": [
    "data = pd.concat([dataframe, seasonal], axis=1)\n",
    "data['TREND'] = range(0, dataframe.shape[0])"
   ]
  },
  {
   "cell_type": "code",
   "execution_count": 188,
   "metadata": {
    "collapsed": false
   },
   "outputs": [],
   "source": [
    "data['LAG_IBC_BR'] = data.groupby(['DATA'])['IBC_BR'].mean().shift(1).reset_index(drop=True)"
   ]
  },
  {
   "cell_type": "code",
   "execution_count": 189,
   "metadata": {
    "collapsed": false
   },
   "outputs": [],
   "source": [
    "data = data.rename(columns={'IBC_BR':'TARGET'})"
   ]
  },
  {
   "cell_type": "code",
   "execution_count": 190,
   "metadata": {
    "collapsed": true
   },
   "outputs": [],
   "source": [
    "data = data.fillna(0)"
   ]
  },
  {
   "cell_type": "code",
   "execution_count": 191,
   "metadata": {
    "collapsed": false
   },
   "outputs": [],
   "source": [
    "del data['DATA']"
   ]
  },
  {
   "cell_type": "code",
   "execution_count": 192,
   "metadata": {
    "collapsed": false
   },
   "outputs": [],
   "source": [
    "data['perc_TARGET'] = data['TARGET']/data['LAG_IBC_BR']-1\n",
    "data.ix[np.isinf(data['perc_TARGET']),'perc_TARGET'] = 0\n",
    "target = data['TARGET']\n",
    "del data['TARGET']"
   ]
  },
  {
   "cell_type": "code",
   "execution_count": 193,
   "metadata": {
    "collapsed": true
   },
   "outputs": [],
   "source": [
    "# convert an array of values into a dataset matrix\n",
    "def create_dataset(df, ratio=0.67):\n",
    "    \n",
    "    train_size = int(len(data) * ratio)\n",
    "    test_size = len(data) - train_size\n",
    "    train, test = data.loc[0:train_size,:], data.loc[train_size:len(data),:]\n",
    "    \n",
    "    trainX, trainY = [], []\n",
    "    trainY = train['perc_TARGET']\n",
    "    trainX = train.ix[:, train.columns != 'perc_TARGET']\n",
    "\n",
    "    testX, testY = [], []\n",
    "    testY = test['perc_TARGET']\n",
    "    testX = test.ix[:, test.columns != 'perc_TARGET']\n",
    "    \n",
    "    # normalize the dataset\n",
    "    scaler = MinMaxScaler(feature_range=(0, 1))\n",
    "    trainX = scaler.fit_transform(trainX)\n",
    "    \n",
    "#    trainX = scale(trainX)\n",
    "    testX = scaler.transform(testX)\n",
    "    \n",
    "\n",
    "    return np.array(trainX), np.array(trainY), np.array(testX), np.array(testY)"
   ]
  },
  {
   "cell_type": "code",
   "execution_count": 194,
   "metadata": {
    "collapsed": false
   },
   "outputs": [],
   "source": [
    "trainX, trainY, testX, testY = create_dataset(data)"
   ]
  },
  {
   "cell_type": "code",
   "execution_count": 195,
   "metadata": {
    "collapsed": false
   },
   "outputs": [
    {
     "name": "stdout",
     "output_type": "stream",
     "text": [
      "((108, 13), (53, 13))\n"
     ]
    }
   ],
   "source": [
    "print(trainX.shape, testX.shape)"
   ]
  },
  {
   "cell_type": "code",
   "execution_count": 196,
   "metadata": {
    "collapsed": false
   },
   "outputs": [
    {
     "data": {
      "text/plain": [
       "13"
      ]
     },
     "execution_count": 196,
     "metadata": {},
     "output_type": "execute_result"
    }
   ],
   "source": [
    "trainX.shape[1]"
   ]
  },
  {
   "cell_type": "code",
   "execution_count": 197,
   "metadata": {
    "collapsed": false
   },
   "outputs": [],
   "source": [
    "df_tra = pd.DataFrame(trainX)\n",
    "df_tra['sample'] = 1\n",
    "df_tra['t'] = range(54)+range(54)"
   ]
  },
  {
   "cell_type": "code",
   "execution_count": 198,
   "metadata": {
    "collapsed": false
   },
   "outputs": [
    {
     "name": "stderr",
     "output_type": "stream",
     "text": [
      "/home/sandor/anaconda2/lib/python2.7/site-packages/ipykernel/__main__.py:1: SettingWithCopyWarning: \n",
      "A value is trying to be set on a copy of a slice from a DataFrame\n",
      "\n",
      "See the caveats in the documentation: http://pandas.pydata.org/pandas-docs/stable/indexing.html#indexing-view-versus-copy\n",
      "  if __name__ == '__main__':\n"
     ]
    }
   ],
   "source": [
    "df_tra['sample'][54:] = 2"
   ]
  },
  {
   "cell_type": "code",
   "execution_count": 199,
   "metadata": {
    "collapsed": false
   },
   "outputs": [
    {
     "data": {
      "text/plain": [
       "(1, 1404, 1)"
      ]
     },
     "execution_count": 199,
     "metadata": {},
     "output_type": "execute_result"
    }
   ],
   "source": [
    "trainX = pd.melt(df_tra, id_vars=['sample','t']).groupby(['sample','t','variable']).sum()\n",
    "trainX.values[np.newaxis,:,:].shape"
   ]
  },
  {
   "cell_type": "code",
   "execution_count": 200,
   "metadata": {
    "collapsed": false
   },
   "outputs": [
    {
     "data": {
      "text/html": [
       "<div>\n",
       "<table border=\"1\" class=\"dataframe\">\n",
       "  <thead>\n",
       "    <tr style=\"text-align: right;\">\n",
       "      <th></th>\n",
       "      <th>0</th>\n",
       "      <th>1</th>\n",
       "      <th>2</th>\n",
       "      <th>3</th>\n",
       "      <th>4</th>\n",
       "      <th>5</th>\n",
       "      <th>6</th>\n",
       "      <th>7</th>\n",
       "      <th>8</th>\n",
       "      <th>9</th>\n",
       "      <th>10</th>\n",
       "      <th>11</th>\n",
       "      <th>12</th>\n",
       "      <th>sample</th>\n",
       "      <th>t</th>\n",
       "    </tr>\n",
       "  </thead>\n",
       "  <tbody>\n",
       "    <tr>\n",
       "      <th>0</th>\n",
       "      <td>1.0</td>\n",
       "      <td>0.0</td>\n",
       "      <td>0.0</td>\n",
       "      <td>0.0</td>\n",
       "      <td>0.0</td>\n",
       "      <td>0.0</td>\n",
       "      <td>0.0</td>\n",
       "      <td>0.0</td>\n",
       "      <td>0.0</td>\n",
       "      <td>0.0</td>\n",
       "      <td>0.0</td>\n",
       "      <td>0.000000</td>\n",
       "      <td>0.000000</td>\n",
       "      <td>1</td>\n",
       "      <td>0</td>\n",
       "    </tr>\n",
       "    <tr>\n",
       "      <th>1</th>\n",
       "      <td>0.0</td>\n",
       "      <td>1.0</td>\n",
       "      <td>0.0</td>\n",
       "      <td>0.0</td>\n",
       "      <td>0.0</td>\n",
       "      <td>0.0</td>\n",
       "      <td>0.0</td>\n",
       "      <td>0.0</td>\n",
       "      <td>0.0</td>\n",
       "      <td>0.0</td>\n",
       "      <td>0.0</td>\n",
       "      <td>0.009346</td>\n",
       "      <td>0.651820</td>\n",
       "      <td>1</td>\n",
       "      <td>1</td>\n",
       "    </tr>\n",
       "    <tr>\n",
       "      <th>2</th>\n",
       "      <td>0.0</td>\n",
       "      <td>0.0</td>\n",
       "      <td>1.0</td>\n",
       "      <td>0.0</td>\n",
       "      <td>0.0</td>\n",
       "      <td>0.0</td>\n",
       "      <td>0.0</td>\n",
       "      <td>0.0</td>\n",
       "      <td>0.0</td>\n",
       "      <td>0.0</td>\n",
       "      <td>0.0</td>\n",
       "      <td>0.018692</td>\n",
       "      <td>0.668904</td>\n",
       "      <td>1</td>\n",
       "      <td>2</td>\n",
       "    </tr>\n",
       "    <tr>\n",
       "      <th>3</th>\n",
       "      <td>0.0</td>\n",
       "      <td>0.0</td>\n",
       "      <td>0.0</td>\n",
       "      <td>1.0</td>\n",
       "      <td>0.0</td>\n",
       "      <td>0.0</td>\n",
       "      <td>0.0</td>\n",
       "      <td>0.0</td>\n",
       "      <td>0.0</td>\n",
       "      <td>0.0</td>\n",
       "      <td>0.0</td>\n",
       "      <td>0.028037</td>\n",
       "      <td>0.701037</td>\n",
       "      <td>1</td>\n",
       "      <td>3</td>\n",
       "    </tr>\n",
       "    <tr>\n",
       "      <th>4</th>\n",
       "      <td>0.0</td>\n",
       "      <td>0.0</td>\n",
       "      <td>0.0</td>\n",
       "      <td>0.0</td>\n",
       "      <td>1.0</td>\n",
       "      <td>0.0</td>\n",
       "      <td>0.0</td>\n",
       "      <td>0.0</td>\n",
       "      <td>0.0</td>\n",
       "      <td>0.0</td>\n",
       "      <td>0.0</td>\n",
       "      <td>0.037383</td>\n",
       "      <td>0.692767</td>\n",
       "      <td>1</td>\n",
       "      <td>4</td>\n",
       "    </tr>\n",
       "  </tbody>\n",
       "</table>\n",
       "</div>"
      ],
      "text/plain": [
       "     0    1    2    3    4    5    6    7    8    9   10        11        12  \\\n",
       "0  1.0  0.0  0.0  0.0  0.0  0.0  0.0  0.0  0.0  0.0  0.0  0.000000  0.000000   \n",
       "1  0.0  1.0  0.0  0.0  0.0  0.0  0.0  0.0  0.0  0.0  0.0  0.009346  0.651820   \n",
       "2  0.0  0.0  1.0  0.0  0.0  0.0  0.0  0.0  0.0  0.0  0.0  0.018692  0.668904   \n",
       "3  0.0  0.0  0.0  1.0  0.0  0.0  0.0  0.0  0.0  0.0  0.0  0.028037  0.701037   \n",
       "4  0.0  0.0  0.0  0.0  1.0  0.0  0.0  0.0  0.0  0.0  0.0  0.037383  0.692767   \n",
       "\n",
       "   sample  t  \n",
       "0       1  0  \n",
       "1       1  1  \n",
       "2       1  2  \n",
       "3       1  3  \n",
       "4       1  4  "
      ]
     },
     "execution_count": 200,
     "metadata": {},
     "output_type": "execute_result"
    }
   ],
   "source": [
    "df_tra.head()"
   ]
  },
  {
   "cell_type": "code",
   "execution_count": 201,
   "metadata": {
    "collapsed": false
   },
   "outputs": [],
   "source": [
    "samples = len(df_tra['sample'].unique())\n",
    "time = len(df_tra['t'].unique())\n",
    "feats = df_tra.shape[1]-2\n",
    "base = numpy.zeros((samples,time,feats))"
   ]
  },
  {
   "cell_type": "code",
   "execution_count": 202,
   "metadata": {
    "collapsed": false
   },
   "outputs": [],
   "source": [
    "for i in range(samples):\n",
    "    for j in range(time):\n",
    "        for z in range(feats):\n",
    "            base[i][j][z] = df_tra.loc[j,z]"
   ]
  },
  {
   "cell_type": "code",
   "execution_count": 203,
   "metadata": {
    "collapsed": false
   },
   "outputs": [],
   "source": [
    "trainX = base"
   ]
  },
  {
   "cell_type": "code",
   "execution_count": 204,
   "metadata": {
    "collapsed": false
   },
   "outputs": [
    {
     "data": {
      "text/plain": [
       "(2, 54, 13)"
      ]
     },
     "execution_count": 204,
     "metadata": {},
     "output_type": "execute_result"
    }
   ],
   "source": [
    "trainX.shape"
   ]
  },
  {
   "cell_type": "markdown",
   "metadata": {},
   "source": [
    "# check this"
   ]
  },
  {
   "cell_type": "markdown",
   "metadata": {},
   "source": [
    "http://stackoverflow.com/questions/36992855/keras-how-should-i-prepare-input-data-for-rnn"
   ]
  },
  {
   "cell_type": "code",
   "execution_count": 100,
   "metadata": {
    "collapsed": false
   },
   "outputs": [],
   "source": [
    "# reshape input to be [samples, time steps, features]\n",
    "#trainX = numpy.reshape(trainX, (trainX.shape[0], 1, trainX.shape[1]))\n",
    "#testX = numpy.reshape(testX, (testX.shape[0], 1, testX.shape[1]))\n",
    "\n",
    "#trainX = numpy.reshape(trainX, (1, trainX.shape[0], trainX.shape[1]))\n",
    "#testX = numpy.reshape(testX, (1, testX.shape[0], testX.shape[1]))"
   ]
  },
  {
   "cell_type": "code",
   "execution_count": 18,
   "metadata": {
    "collapsed": false
   },
   "outputs": [],
   "source": [
    "# import numpy as np\n",
    "# from keras import backend as K\n",
    "# def mean_squared_error(y_true, y_pred):\n",
    "#     return K.mean(K.square(y_true - y_pred), axis=-1)\n",
    "\n",
    "# def rsquared(y_true, y_pred):\n",
    "#     ssres = K.mean(K.square(y_true - y_pred), axis=-1)\n",
    "#     sstot = K.square(y_true -K.mean(y_true))\n",
    "#     rsquare = (1 - (ssres/sstot))\n",
    "#     return rsquare\n",
    "\n",
    "# def sum_squared_error(y_true, y_pred):\n",
    "#     return K.sum(K.square(y_true - y_pred), axis=-1)"
   ]
  },
  {
   "cell_type": "code",
   "execution_count": 220,
   "metadata": {
    "collapsed": false
   },
   "outputs": [
    {
     "data": {
      "text/plain": [
       "(2, 54)"
      ]
     },
     "execution_count": 220,
     "metadata": {},
     "output_type": "execute_result"
    }
   ],
   "source": [
    "trainY = np.array([trainY[:54],trainY[54:]])\n",
    "trainY.shape"
   ]
  },
  {
   "cell_type": "code",
   "execution_count": 243,
   "metadata": {
    "collapsed": false,
    "scrolled": true
   },
   "outputs": [
    {
     "name": "stdout",
     "output_type": "stream",
     "text": [
      "Train on 1 samples, validate on 1 samples\n",
      "Epoch 1/60\n",
      "0s - loss: 0.0362 - val_loss: 0.0190\n",
      "Epoch 2/60\n",
      "0s - loss: 0.0171 - val_loss: 0.0070\n",
      "Epoch 3/60\n",
      "0s - loss: 0.0058 - val_loss: 0.0054\n",
      "Epoch 4/60\n",
      "0s - loss: 0.0037 - val_loss: 0.0059\n",
      "Epoch 5/60\n",
      "0s - loss: 0.0038 - val_loss: 0.0062\n",
      "Epoch 6/60\n",
      "0s - loss: 0.0029 - val_loss: 0.0036\n",
      "Epoch 7/60\n",
      "0s - loss: 0.0011 - val_loss: 0.0044\n",
      "Epoch 8/60\n",
      "0s - loss: 0.0010 - val_loss: 0.0037\n",
      "Epoch 9/60\n",
      "0s - loss: 6.8242e-04 - val_loss: 0.0038\n",
      "Epoch 10/60\n",
      "0s - loss: 3.5820e-04 - val_loss: 0.0035\n",
      "Epoch 11/60\n",
      "0s - loss: 2.0412e-04 - val_loss: 0.0036\n",
      "Epoch 12/60\n",
      "0s - loss: 1.4798e-04 - val_loss: 0.0036\n",
      "Epoch 13/60\n",
      "0s - loss: 1.3305e-04 - val_loss: 0.0036\n",
      "Epoch 14/60\n",
      "0s - loss: 1.4695e-04 - val_loss: 0.0038\n",
      "Epoch 15/60\n",
      "0s - loss: 1.9654e-04 - val_loss: 0.0037\n",
      "Epoch 16/60\n",
      "0s - loss: 3.1988e-04 - val_loss: 0.0042\n",
      "Epoch 17/60\n",
      "0s - loss: 5.2514e-04 - val_loss: 0.0040\n",
      "Epoch 18/60\n",
      "0s - loss: 7.4367e-04 - val_loss: 0.0044\n",
      "Epoch 19/60\n",
      "0s - loss: 7.2710e-04 - val_loss: 0.0038\n",
      "Epoch 20/60\n",
      "0s - loss: 5.0939e-04 - val_loss: 0.0040\n",
      "Epoch 21/60\n",
      "0s - loss: 3.4468e-04 - val_loss: 0.0037\n",
      "Epoch 22/60\n",
      "0s - loss: 2.6705e-04 - val_loss: 0.0039\n",
      "Epoch 23/60\n",
      "0s - loss: 3.0901e-04 - val_loss: 0.0038\n",
      "Epoch 24/60\n",
      "0s - loss: 4.6291e-04 - val_loss: 0.0045\n",
      "Epoch 25/60\n",
      "0s - loss: 7.4768e-04 - val_loss: 0.0041\n",
      "Epoch 26/60\n",
      "0s - loss: 9.5127e-04 - val_loss: 0.0047\n",
      "Epoch 27/60\n",
      "0s - loss: 7.6859e-04 - val_loss: 0.0037\n",
      "Epoch 28/60\n",
      "0s - loss: 7.0491e-04 - val_loss: 0.0049\n",
      "Epoch 29/60\n",
      "0s - loss: 7.7935e-04 - val_loss: 0.0039\n",
      "Epoch 30/60\n",
      "0s - loss: 9.8897e-04 - val_loss: 0.0046\n",
      "Epoch 31/60\n",
      "0s - loss: 6.5185e-04 - val_loss: 0.0036\n",
      "Epoch 32/60\n",
      "0s - loss: 3.6119e-04 - val_loss: 0.0038\n",
      "Epoch 33/60\n",
      "0s - loss: 1.8980e-04 - val_loss: 0.0036\n",
      "Epoch 34/60\n",
      "0s - loss: 1.5490e-04 - val_loss: 0.0036\n",
      "Epoch 35/60\n",
      "0s - loss: 1.6201e-04 - val_loss: 0.0039\n",
      "Epoch 36/60\n",
      "0s - loss: 2.3139e-04 - val_loss: 0.0035\n",
      "Epoch 37/60\n",
      "0s - loss: 3.7870e-04 - val_loss: 0.0048\n",
      "Epoch 38/60\n",
      "0s - loss: 6.7165e-04 - val_loss: 0.0034\n",
      "Epoch 39/60\n",
      "0s - loss: 7.4899e-04 - val_loss: 0.0050\n",
      "Epoch 40/60\n",
      "0s - loss: 6.9277e-04 - val_loss: 0.0035\n",
      "Epoch 41/60\n",
      "0s - loss: 5.6984e-04 - val_loss: 0.0046\n",
      "Epoch 42/60\n",
      "0s - loss: 8.5561e-04 - val_loss: 0.0048\n",
      "Epoch 43/60\n",
      "0s - loss: 0.0012 - val_loss: 0.0042\n",
      "Epoch 44/60\n",
      "0s - loss: 9.3904e-04 - val_loss: 0.0042\n",
      "Epoch 45/60\n",
      "0s - loss: 5.4474e-04 - val_loss: 0.0039\n",
      "Epoch 46/60\n",
      "0s - loss: 3.6425e-04 - val_loss: 0.0037\n",
      "Epoch 47/60\n",
      "0s - loss: 4.5138e-04 - val_loss: 0.0044\n",
      "Epoch 48/60\n",
      "0s - loss: 4.9493e-04 - val_loss: 0.0035\n",
      "Epoch 49/60\n",
      "0s - loss: 4.9985e-04 - val_loss: 0.0043\n",
      "Epoch 50/60\n",
      "0s - loss: 3.9633e-04 - val_loss: 0.0035\n",
      "Epoch 51/60\n",
      "0s - loss: 4.0945e-04 - val_loss: 0.0043\n",
      "Epoch 52/60\n",
      "0s - loss: 4.8277e-04 - val_loss: 0.0038\n",
      "Epoch 53/60\n",
      "0s - loss: 5.7436e-04 - val_loss: 0.0042\n",
      "Epoch 54/60\n",
      "0s - loss: 5.6976e-04 - val_loss: 0.0038\n",
      "Epoch 55/60\n",
      "0s - loss: 4.3635e-04 - val_loss: 0.0039\n",
      "Epoch 56/60\n",
      "0s - loss: 3.4790e-04 - val_loss: 0.0039\n",
      "Epoch 57/60\n",
      "0s - loss: 3.1944e-04 - val_loss: 0.0038\n",
      "Epoch 58/60\n",
      "0s - loss: 4.1729e-04 - val_loss: 0.0041\n",
      "Epoch 59/60\n",
      "0s - loss: 5.0891e-04 - val_loss: 0.0040\n",
      "Epoch 60/60\n",
      "0s - loss: 5.0774e-04 - val_loss: 0.0037\n"
     ]
    }
   ],
   "source": [
    "# create and fit the LSTM network\n",
    "model = Sequential()\n",
    "model.add(LSTM(128,input_shape=(54, 13)))\n",
    "#model.add(Dropout(0.2))\n",
    "#model.add(LSTM(128,return_sequences=True))\n",
    "#model.add(Dropout(0.2))\n",
    "#model.add(LSTM(128,return_sequences=True))\n",
    "#model.add(Dropout(0.2))\n",
    "#model.add(LSTM(12))\n",
    "#model.add(Flatten())\n",
    "model.add(Dense(54, W_regularizer=l2(1e-6), activity_regularizer=activity_l2(1e-6)))\n",
    "model.compile(loss='mean_squared_error', optimizer='rmsprop')\n",
    "\n",
    "hist = model.fit(trainX, trainY, nb_epoch=60, batch_size=1, verbose=2, validation_split=0.3)"
   ]
  },
  {
   "cell_type": "code",
   "execution_count": 244,
   "metadata": {
    "collapsed": false
   },
   "outputs": [
    {
     "data": {
      "text/plain": [
       "<matplotlib.legend.Legend at 0x7f046ac8f190>"
      ]
     },
     "execution_count": 244,
     "metadata": {},
     "output_type": "execute_result"
    },
    {
     "data": {
      "image/png": "[encoded data removed]",
      "text/plain": [
       "<matplotlib.figure.Figure at 0x7f046ad01f90>"
      ]
     },
     "metadata": {},
     "output_type": "display_data"
    }
   ],
   "source": [
    "plt.plot(hist.history['loss'])\n",
    "plt.plot(hist.history['val_loss'])\n",
    "plt.title('model loss')\n",
    "plt.ylabel('loss')\n",
    "plt.xlabel('epoch')\n",
    "plt.legend(['test', 'train'], loc='upper left')"
   ]
  },
  {
   "cell_type": "code",
   "execution_count": 245,
   "metadata": {
    "collapsed": false
   },
   "outputs": [],
   "source": [
    "# generate predictions for training\n",
    "trainPredict = model.predict(trainX)\n",
    "#testPredict = model.predict(testX)"
   ]
  },
  {
   "cell_type": "code",
   "execution_count": 246,
   "metadata": {
    "collapsed": false
   },
   "outputs": [
    {
     "ename": "ValueError",
     "evalue": "could not broadcast input array from shape (2,54) into shape (2,1)",
     "output_type": "error",
     "traceback": [
      "\u001b[1;31m---------------------------------------------------------------------------\u001b[0m",
      "\u001b[1;31mValueError\u001b[0m                                Traceback (most recent call last)",
      "\u001b[1;32m<ipython-input-246-ef4ac620d3e4>\u001b[0m in \u001b[0;36m<module>\u001b[1;34m()\u001b[0m\n\u001b[0;32m      1\u001b[0m \u001b[0mtrainPredictPlot\u001b[0m \u001b[1;33m=\u001b[0m \u001b[0mnp\u001b[0m\u001b[1;33m.\u001b[0m\u001b[0mzeros\u001b[0m\u001b[1;33m(\u001b[0m\u001b[1;33m(\u001b[0m\u001b[0mdata\u001b[0m\u001b[1;33m.\u001b[0m\u001b[0mshape\u001b[0m\u001b[1;33m[\u001b[0m\u001b[1;36m0\u001b[0m\u001b[1;33m]\u001b[0m\u001b[1;33m,\u001b[0m\u001b[1;36m1\u001b[0m\u001b[1;33m)\u001b[0m\u001b[1;33m)\u001b[0m\u001b[1;33m\u001b[0m\u001b[0m\n\u001b[0;32m      2\u001b[0m \u001b[0mtrainPredictPlot\u001b[0m\u001b[1;33m[\u001b[0m\u001b[1;33m:\u001b[0m\u001b[1;33m,\u001b[0m\u001b[1;33m:\u001b[0m\u001b[1;33m]\u001b[0m \u001b[1;33m=\u001b[0m \u001b[0mnp\u001b[0m\u001b[1;33m.\u001b[0m\u001b[0mnan\u001b[0m\u001b[1;33m\u001b[0m\u001b[0m\n\u001b[1;32m----> 3\u001b[1;33m \u001b[0mtrainPredictPlot\u001b[0m\u001b[1;33m[\u001b[0m\u001b[1;36m0\u001b[0m\u001b[1;33m:\u001b[0m\u001b[0mlen\u001b[0m\u001b[1;33m(\u001b[0m\u001b[0mtrainPredict\u001b[0m\u001b[1;33m)\u001b[0m\u001b[1;33m,\u001b[0m\u001b[1;33m:\u001b[0m\u001b[1;33m]\u001b[0m \u001b[1;33m=\u001b[0m \u001b[0mtrainPredict\u001b[0m\u001b[1;33m\u001b[0m\u001b[0m\n\u001b[0m\u001b[0;32m      4\u001b[0m \u001b[1;33m\u001b[0m\u001b[0m\n\u001b[0;32m      5\u001b[0m \u001b[1;31m#testPredictPlot = np.zeros((data.shape[0],1))\u001b[0m\u001b[1;33m\u001b[0m\u001b[1;33m\u001b[0m\u001b[0m\n",
      "\u001b[1;31mValueError\u001b[0m: could not broadcast input array from shape (2,54) into shape (2,1)"
     ]
    }
   ],
   "source": [
    "trainPredictPlot = np.zeros((data.shape[0],1))\n",
    "trainPredictPlot[:,:] = np.nan\n",
    "trainPredictPlot[0:len(trainPredict),:] = trainPredict\n",
    "\n",
    "#testPredictPlot = np.zeros((data.shape[0],1))\n",
    "#testPredictPlot[:,:] = np.nan\n",
    "#testPredictPlot[-len(testPredict):len(data),:] = testPredict\n",
    "\n",
    "# plot baseline and predictions\n",
    "plt.figure(figsize=(20,10))\n",
    "plt.plot(data['perc_TARGET'])\n",
    "plt.plot(trainPredictPlot)\n",
    "#plt.plot(testPredictPlot)"
   ]
  },
  {
   "cell_type": "code",
   "execution_count": 23,
   "metadata": {
    "collapsed": false
   },
   "outputs": [],
   "source": [
    "plotTrain = (1+trainPredictPlot[:,0])*data['LAG_IBC_BR']\n",
    "plotTest = (1+testPredictPlot[:,0])*data['LAG_IBC_BR']"
   ]
  },
  {
   "cell_type": "code",
   "execution_count": 24,
   "metadata": {
    "collapsed": false
   },
   "outputs": [
    {
     "data": {
      "text/plain": [
       "(95, 160)"
      ]
     },
     "execution_count": 24,
     "metadata": {},
     "output_type": "execute_result"
    },
    {
     "data": {
      "image/png": "[encoded data removed]",
      "text/plain": [
       "<matplotlib.figure.Figure at 0x142313390>"
      ]
     },
     "metadata": {},
     "output_type": "display_data"
    }
   ],
   "source": [
    "# plot baseline and predictions\n",
    "plt.figure(figsize=(20,10))\n",
    "#plt.plot(data['perc_TARGET'])\n",
    "plt.plot(target)\n",
    "plt.plot(plotTrain)\n",
    "plt.plot(plotTest)\n",
    "plt.ylim(95,160)"
   ]
  },
  {
   "cell_type": "code",
   "execution_count": 25,
   "metadata": {
    "collapsed": false
   },
   "outputs": [
    {
     "name": "stdout",
     "output_type": "stream",
     "text": [
      "Train R2 - 0.97  /  Test R2 - 0.72\n"
     ]
    }
   ],
   "source": [
    "train_r2 = round(r2_score(target[1:len(trainPredict)], plotTrain[1:len(trainPredict)]),2)\n",
    "test_r2 = round(r2_score(target[-len(testPredict):len(plotTest)],plotTest[-len(testPredict):len(plotTest)]),2)\n",
    "print 'Train R2 - %s' % train_r2, ' / ','Test R2 - %s' % test_r2\n"
   ]
  },
  {
   "cell_type": "code",
   "execution_count": null,
   "metadata": {
    "collapsed": true
   },
   "outputs": [],
   "source": []
  },
  {
   "cell_type": "code",
   "execution_count": null,
   "metadata": {
    "collapsed": true
   },
   "outputs": [],
   "source": []
  },
  {
   "cell_type": "code",
   "execution_count": null,
   "metadata": {
    "collapsed": true
   },
   "outputs": [],
   "source": []
  },
  {
   "cell_type": "code",
   "execution_count": null,
   "metadata": {
    "collapsed": true
   },
   "outputs": [],
   "source": []
  },
  {
   "cell_type": "code",
   "execution_count": null,
   "metadata": {
    "collapsed": true
   },
   "outputs": [],
   "source": []
  },
  {
   "cell_type": "code",
   "execution_count": null,
   "metadata": {
    "collapsed": true
   },
   "outputs": [],
   "source": []
  },
  {
   "cell_type": "code",
   "execution_count": null,
   "metadata": {
    "collapsed": true
   },
   "outputs": [],
   "source": []
  }
 ],
 "metadata": {
  "kernelspec": {
   "display_name": "Python [Root]",
   "language": "python",
   "name": "Python [Root]"
  },
  "language_info": {
   "codemirror_mode": {
    "name": "ipython",
    "version": 2
   },
   "file_extension": ".py",
   "mimetype": "text/x-python",
   "name": "python",
   "nbconvert_exporter": "python",
   "pygments_lexer": "ipython2",
   "version": "2.7.12"
  }
 },
 "nbformat": 4,
 "nbformat_minor": 1
}
